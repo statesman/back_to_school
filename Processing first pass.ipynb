{
 "cells": [
  {
   "cell_type": "code",
   "execution_count": 1,
   "metadata": {
    "collapsed": true
   },
   "outputs": [],
   "source": [
    "import agate\n"
   ]
  },
  {
   "cell_type": "code",
   "execution_count": 2,
   "metadata": {
    "collapsed": false
   },
   "outputs": [
    {
     "name": "stdout",
     "output_type": "stream",
     "text": [
      "| column   | data_type |\n",
      "| -------- | --------- |\n",
      "| CAMPUS   | Text      |\n",
      "| BA0GH06N | Number    |\n",
      "| BA0GM06N | Number    |\n",
      "| BA0GR06N | Number    |\n",
      "| BB0GR06N | Number    |\n",
      "| BH0GR06N | Number    |\n",
      "| BI0GR06N | Number    |\n",
      "| BP0GR06N | Number    |\n",
      "| BPEMALLP | Number    |\n",
      "| BPERRA1R | Number    |\n",
      "| BPERRA2R | Number    |\n",
      "| BPERRA3R | Number    |\n",
      "| BPERRA4R | Number    |\n",
      "| BPERRA5R | Number    |\n",
      "| BPERRA6R | Number    |\n",
      "| BPERRA7R | Number    |\n",
      "| BPERRA8R | Number    |\n",
      "| BPERRAKR | Number    |\n",
      "| BPERSA1R | Number    |\n",
      "| BPERSA2R | Number    |\n",
      "| BPERSA3R | Number    |\n",
      "| BPERSA4R | Number    |\n",
      "| BPERSA5R | Number    |\n",
      "| BPERSA6R | Number    |\n",
      "| BPERSA7R | Number    |\n",
      "| BPERSA8R | Number    |\n",
      "| BPERSAKR | Number    |\n",
      "| BPETALLC | Number    |\n",
      "| BPETBILP | Number    |\n",
      "| BPETBLAP | Number    |\n",
      "| BPETDISC | Number    |\n",
      "| BPETDISP | Number    |\n",
      "| BPETECOP | Number    |\n",
      "| BPETG01P | Number    |\n",
      "| BPETG02P | Number    |\n",
      "| BPETG03P | Number    |\n",
      "| BPETG04P | Number    |\n",
      "| BPETG05P | Number    |\n",
      "| BPETG06P | Number    |\n",
      "| BPETG07P | Number    |\n",
      "| BPETG08P | Number    |\n",
      "| BPETG09P | Number    |\n",
      "| BPETG10P | Number    |\n",
      "| BPETG11P | Number    |\n",
      "| BPETG12P | Number    |\n",
      "| BPETGEEP | Number    |\n",
      "| BPETGIFP | Number    |\n",
      "| BPETGKNP | Number    |\n",
      "| BPETGPKP | Number    |\n",
      "| BPETHISP | Number    |\n",
      "| BPETINDP | Number    |\n",
      "| BPETLEPP | Number    |\n",
      "| BPETPACP | Number    |\n",
      "| BPETRSKP | Number    |\n",
      "| BPETSPEP | Number    |\n",
      "| BPETVOCP | Number    |\n",
      "| BPETWHIP | Number    |\n",
      "| BS0GR06N | Number    |\n",
      "| BW0GR06N | Number    |\n",
      "| CA0GH06N | Number    |\n",
      "| CA0GM06N | Number    |\n",
      "| CA0GR06N | Number    |\n",
      "| CB0GR06N | Number    |\n",
      "| CH0GR06N | Number    |\n",
      "| CI0GR06N | Number    |\n",
      "| CP0GR06N | Number    |\n",
      "| CPEMALLC | Number    |\n",
      "| CPEMALLP | Number    |\n",
      "| CPERRA1R | Number    |\n",
      "| CPERRA2R | Number    |\n",
      "| CPERRA3R | Number    |\n",
      "| CPERRA4R | Number    |\n",
      "| CPERRA5R | Number    |\n",
      "| CPERRA6R | Number    |\n",
      "| CPERRA7R | Number    |\n",
      "| CPERRA8R | Number    |\n",
      "| CPERRAKR | Number    |\n",
      "| CPERSA1R | Number    |\n",
      "| CPERSA2R | Number    |\n",
      "| CPERSA3R | Number    |\n",
      "| CPERSA4R | Number    |\n",
      "| CPERSA5R | Number    |\n",
      "| CPERSA6R | Number    |\n",
      "| CPERSA7R | Number    |\n",
      "| CPERSA8R | Number    |\n",
      "| CPERSAKR | Number    |\n",
      "| CPETALLC | Number    |\n",
      "| CPETBILC | Number    |\n",
      "| CPETBILP | Number    |\n",
      "| CPETBLAC | Number    |\n",
      "| CPETBLAP | Number    |\n",
      "| CPETDISC | Number    |\n",
      "| CPETDISP | Number    |\n",
      "| CPETECOC | Number    |\n",
      "| CPETECOP | Number    |\n",
      "| CPETG01C | Number    |\n",
      "| CPETG01P | Number    |\n",
      "| CPETG02C | Number    |\n",
      "| CPETG02P | Number    |\n",
      "| CPETG03C | Number    |\n",
      "| CPETG03P | Number    |\n",
      "| CPETG04C | Number    |\n",
      "| CPETG04P | Number    |\n",
      "| CPETG05C | Number    |\n",
      "| CPETG05P | Number    |\n",
      "| CPETG06C | Number    |\n",
      "| CPETG06P | Number    |\n",
      "| CPETG07C | Number    |\n",
      "| CPETG07P | Number    |\n",
      "| CPETG08C | Number    |\n",
      "| CPETG08P | Number    |\n",
      "| CPETG09C | Number    |\n",
      "| CPETG09P | Number    |\n",
      "| CPETG10C | Number    |\n",
      "| CPETG10P | Number    |\n",
      "| CPETG11C | Number    |\n",
      "| CPETG11P | Number    |\n",
      "| CPETG12C | Number    |\n",
      "| CPETG12P | Number    |\n",
      "| CPETGEEC | Number    |\n",
      "| CPETGEEP | Number    |\n",
      "| CPETGIFC | Number    |\n",
      "| CPETGIFP | Number    |\n",
      "| CPETGKNC | Number    |\n",
      "| CPETGKNP | Number    |\n",
      "| CPETGPKC | Number    |\n",
      "| CPETGPKP | Number    |\n",
      "| CPETHISC | Number    |\n",
      "| CPETHISP | Number    |\n",
      "| CPETINDC | Number    |\n",
      "| CPETINDP | Number    |\n",
      "| CPETLEPC | Number    |\n",
      "| CPETLEPP | Number    |\n",
      "| CPETPACC | Number    |\n",
      "| CPETPACP | Number    |\n",
      "| CPETRSKC | Number    |\n",
      "| CPETRSKP | Number    |\n",
      "| CPETSPEC | Number    |\n",
      "| CPETSPEP | Number    |\n",
      "| CPETVOCC | Number    |\n",
      "| CPETVOCP | Number    |\n",
      "| CPETWHIC | Number    |\n",
      "| CPETWHIP | Number    |\n",
      "| CS0GR06N | Number    |\n",
      "| CW0GR06N | Number    |\n",
      "\n"
     ]
    }
   ],
   "source": [
    "specified_types = {\n",
    "    'CAMPUS': agate.Text(),\n",
    "}\n",
    "\n",
    "student0607 = agate.Table.from_csv('../raw_data/0607student.txt', column_types=specified_types)\n",
    "print(student0607)"
   ]
  },
  {
   "cell_type": "code",
   "execution_count": 3,
   "metadata": {
    "collapsed": false
   },
   "outputs": [
    {
     "name": "stdout",
     "output_type": "stream",
     "text": [
      "| CAMPUS    | BA0GH06N | BA0GM06N | BA0GR06N | BB0GR06N | BH0GR06N | ... |\n",
      "| --------- | -------- | -------- | -------- | -------- | -------- | --- |\n",
      "| 001902001 |    4,094 |    1,354 |    5,448 |      379 |      476 | ... |\n",
      "| 001902041 |        0 |        0 |        0 |        0 |        0 | ... |\n",
      "| 001902103 |        0 |        0 |        0 |        0 |        0 | ... |\n",
      "| 001903001 |    2,568 |    1,205 |    3,773 |      137 |      215 | ... |\n",
      "| 001903041 |        0 |        0 |        0 |        0 |        0 | ... |\n",
      "| 001903101 |        0 |        0 |        0 |        0 |        0 | ... |\n",
      "| 001904001 |    2,154 |      960 |    3,114 |      313 |      208 | ... |\n",
      "| 001904041 |        0 |        0 |        0 |        0 |        0 | ... |\n",
      "| 001904102 |        0 |        0 |        0 |        0 |        0 | ... |\n",
      "| 001906002 |    4,605 |    1,656 |    6,261 |      352 |      491 | ... |\n",
      "| 001906102 |        0 |        0 |        0 |        0 |        0 | ... |\n",
      "| 001907001 |    4,648 |    1,743 |    6,391 |    1,505 |    1,337 | ... |\n",
      "| 001907041 |        1 |        0 |        1 |        1 |        0 | ... |\n",
      "| 001907101 |        0 |        0 |        0 |        0 |        0 | ... |\n",
      "| 001907107 |        0 |        0 |        0 |        0 |        0 | ... |\n",
      "| 001907110 |        0 |        0 |        0 |        0 |        0 | ... |\n",
      "| 001908002 |    4,218 |    1,741 |    5,959 |      684 |      598 | ... |\n",
      "| 001908041 |        0 |        0 |        0 |        0 |        0 | ... |\n",
      "| 001908101 |        0 |        0 |        0 |        0 |        0 | ... |\n",
      "| 001908102 |        0 |        0 |        0 |        0 |        0 | ... |\n",
      "| ...       |      ... |      ... |      ... |      ... |      ... | ... |\n"
     ]
    }
   ],
   "source": [
    "student0607.print_table()"
   ]
  },
  {
   "cell_type": "code",
   "execution_count": 4,
   "metadata": {
    "collapsed": true
   },
   "outputs": [],
   "source": [
    "include_columns = ['CPETBLAC', 'CPETHISC', 'CPETWHIC', 'CPETINDC', 'CPETPACC',\n",
    "'CPETECOC', 'CPETLEPC', 'CPETDISC', 'CPETRSKC', 'CPEMALLC', 'CPETBLAP','CPETHISP',\n",
    "'CPETWHIP', 'CPETINDP', 'CPETPACP', 'CPETECOP', 'CPETLEPP', 'CPETDISP',\n",
    "'CPETRSKP', 'CPEMALLP', 'CB0GR06N', 'CH0GR06N', 'CW0GR06N', 'CI0GR06N', 'CP0GR06N',\n",
    "'CPETBILC', 'CPETVOCC', 'CPETGIFC', 'CPETSPEC']\n",
    "\n",
    " \n",
    "\n",
    "stud0607new = student0607.select(include_columns)"
   ]
  },
  {
   "cell_type": "code",
   "execution_count": 5,
   "metadata": {
    "collapsed": false
   },
   "outputs": [
    {
     "name": "stdout",
     "output_type": "stream",
     "text": [
      "| CPETBLAC | CPETHISC | CPETWHIC | CPETINDC | CPETPACC | CPETECOC | ... |\n",
      "| -------- | -------- | -------- | -------- | -------- | -------- | --- |\n",
      "|       29 |        6 |      129 |        0 |        1 |       42 | ... |\n",
      "|       18 |        8 |      107 |        0 |        0 |       53 | ... |\n",
      "|       19 |       15 |      234 |        0 |        3 |      116 | ... |\n",
      "|       26 |       14 |      317 |        0 |        4 |      124 | ... |\n",
      "|       30 |       14 |      239 |        3 |        1 |      136 | ... |\n",
      "|       56 |       48 |      567 |        0 |        0 |      398 | ... |\n",
      "|       38 |       12 |      196 |        0 |        2 |      117 | ... |\n",
      "|       31 |       18 |      137 |        0 |        2 |       97 | ... |\n",
      "|       42 |       31 |      278 |        0 |        2 |      209 | ... |\n",
      "|       14 |        9 |      114 |        0 |        1 |       46 | ... |\n",
      "|       20 |        8 |      184 |        0 |        2 |       81 | ... |\n",
      "|      280 |      227 |      407 |        3 |        8 |      447 | ... |\n",
      "|      206 |      245 |      262 |        0 |        7 |      479 | ... |\n",
      "|      149 |      164 |      137 |        1 |        6 |      360 | ... |\n",
      "|      164 |      187 |      213 |        1 |        4 |      420 | ... |\n",
      "|      197 |      239 |      292 |        1 |        5 |      511 | ... |\n",
      "|       85 |       55 |      361 |        2 |        2 |      197 | ... |\n",
      "|       46 |       36 |      189 |        0 |        1 |      117 | ... |\n",
      "|      103 |       70 |      319 |        0 |        5 |      264 | ... |\n",
      "|       75 |       86 |      319 |        1 |        4 |      304 | ... |\n",
      "|      ... |      ... |      ... |      ... |      ... |      ... | ... |\n"
     ]
    }
   ],
   "source": [
    "stud0607new.print_table()"
   ]
  },
  {
   "cell_type": "code",
   "execution_count": null,
   "metadata": {
    "collapsed": true
   },
   "outputs": [],
   "source": []
  }
 ],
 "metadata": {
  "kernelspec": {
   "display_name": "Python 3",
   "language": "python",
   "name": "python3"
  },
  "language_info": {
   "codemirror_mode": {
    "name": "ipython",
    "version": 3
   },
   "file_extension": ".py",
   "mimetype": "text/x-python",
   "name": "python",
   "nbconvert_exporter": "python",
   "pygments_lexer": "ipython3",
   "version": "3.5.1"
  }
 },
 "nbformat": 4,
 "nbformat_minor": 2
}
