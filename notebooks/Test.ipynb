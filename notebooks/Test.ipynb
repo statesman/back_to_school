{
 "cells": [
  {
   "cell_type": "code",
   "execution_count": 1,
   "metadata": {
    "collapsed": true
   },
   "outputs": [],
   "source": [
    "import agate"
   ]
  },
  {
   "cell_type": "code",
   "execution_count": 2,
   "metadata": {
    "collapsed": true
   },
   "outputs": [],
   "source": [
    "# making sure campus is text\n",
    "specified_types = {\n",
    "    'CAMPUS': agate.Text()\n",
    "}"
   ]
  },
  {
   "cell_type": "code",
   "execution_count": 3,
   "metadata": {
    "collapsed": false
   },
   "outputs": [],
   "source": [
    "# import the files\n",
    "stud0607_raw = agate.Table.from_csv('../raw_data/0607student.txt', column_types=specified_types)\n",
    "stud0708_raw = agate.Table.from_csv('../raw_data/0708student.txt', column_types=specified_types)\n",
    "\n",
    "# also import your district names file"
   ]
  },
  {
   "cell_type": "code",
   "execution_count": 4,
   "metadata": {
    "collapsed": false
   },
   "outputs": [],
   "source": [
    "# list out column names for first set of of data\n",
    "# add all the columns you want to keep\n",
    "columns_set_01 = ['CAMPUS','BA0GH06N', 'BA0GM06N']\n",
    "\n",
    "# renaming list for first set\n",
    "column_names_01 = {\n",
    "   'BA0GH06N': 'GOOD_COL_01',\n",
    "   'BA0GM06N': 'GOOD_COL_02'\n",
    "}"
   ]
  },
  {
   "cell_type": "code",
   "execution_count": 5,
   "metadata": {
    "collapsed": false
   },
   "outputs": [
    {
     "name": "stdout",
     "output_type": "stream",
     "text": [
      "| column   | data_type |\n",
      "| -------- | --------- |\n",
      "| CAMPUS   | Text      |\n",
      "| BA0GH06N | Number    |\n",
      "| BA0GM06N | Number    |\n",
      "\n"
     ]
    }
   ],
   "source": [
    "# select the columns set 01\n",
    "# take out limit(5) for the real deal\n",
    "stud0607_selected = stud0607_raw.limit(5).select(columns_set_01)\n",
    "print(stud0607_selected)\n"
   ]
  },
  {
   "cell_type": "code",
   "execution_count": 6,
   "metadata": {
    "collapsed": false
   },
   "outputs": [
    {
     "name": "stdout",
     "output_type": "stream",
     "text": [
      "| column      | data_type |\n",
      "| ----------- | --------- |\n",
      "| CAMPUS      | Text      |\n",
      "| GOOD_COL_01 | Number    |\n",
      "| GOOD_COL_02 | Number    |\n",
      "\n"
     ]
    }
   ],
   "source": [
    "# rename columns set 01\n",
    "stud0607_renamed = stud0607_selected.rename(column_names_01)\n",
    "print(stud0607_renamed)"
   ]
  },
  {
   "cell_type": "code",
   "execution_count": 7,
   "metadata": {
    "collapsed": true
   },
   "outputs": [],
   "source": [
    "# set up your join here to get the district names"
   ]
  },
  {
   "cell_type": "markdown",
   "metadata": {},
   "source": [
    "### starting processing for set 02"
   ]
  },
  {
   "cell_type": "code",
   "execution_count": 8,
   "metadata": {
    "collapsed": false
   },
   "outputs": [],
   "source": [
    "# list out column names for second set of of data\n",
    "# add all the columns you want to keep\n",
    "columns_set_02 = ['CAMPUS','BA0GH07N', 'BA0GM07N']\n",
    "\n",
    "# renaming list for first set\n",
    "column_names_02 = {\n",
    "   'BA0GH07N': 'GOOD_COL_01',\n",
    "   'BA0GM07N': 'GOOD_COL_02'\n",
    "}"
   ]
  },
  {
   "cell_type": "code",
   "execution_count": 9,
   "metadata": {
    "collapsed": false
   },
   "outputs": [
    {
     "name": "stdout",
     "output_type": "stream",
     "text": [
      "| column   | data_type |\n",
      "| -------- | --------- |\n",
      "| CAMPUS   | Text      |\n",
      "| BA0GH07N | Number    |\n",
      "| BA0GM07N | Number    |\n",
      "\n"
     ]
    }
   ],
   "source": [
    "# select the columns set 01\n",
    "# take out limit(5) for the real deal\n",
    "stud0708_selected = stud0708_raw.limit(5).select(columns_set_02)\n",
    "print(stud0708_selected)"
   ]
  },
  {
   "cell_type": "code",
   "execution_count": 10,
   "metadata": {
    "collapsed": false
   },
   "outputs": [
    {
     "name": "stdout",
     "output_type": "stream",
     "text": [
      "| column      | data_type |\n",
      "| ----------- | --------- |\n",
      "| CAMPUS      | Text      |\n",
      "| GOOD_COL_01 | Number    |\n",
      "| GOOD_COL_02 | Number    |\n",
      "\n"
     ]
    }
   ],
   "source": [
    "# rename columns set 02\n",
    "stud0708_renamed = stud0708_selected.rename(column_names_02)\n",
    "print(stud0708_renamed)"
   ]
  },
  {
   "cell_type": "code",
   "execution_count": 11,
   "metadata": {
    "collapsed": false
   },
   "outputs": [],
   "source": [
    "# function to create a date column\n",
    "\n",
    "class datecolumn(agate.Computation): \n",
    "    def get_computed_data_type(self, table):\n",
    "        return agate.Date('%d-%m-%y')\n",
    "    \n",
    "    def run(self, table):\n",
    "        new_column = []\n",
    "        for row in table.rows:\n",
    "            new_column.append(year_value)\n",
    "        return new_column\n",
    "    \n"
   ]
  },
  {
   "cell_type": "code",
   "execution_count": 18,
   "metadata": {
    "collapsed": false
   },
   "outputs": [],
   "source": [
    "# set the year value for the first data set\n",
    "year_value = '01-01-07'\n",
    "# Then create the new column using the datecolumn function\n",
    "stud0607_year = stud0607_renamed.compute([\n",
    "    ('year', datecolumn())\n",
    "], replace=True)\n",
    "\n",
    "# set the year value for the secod data set\n",
    "year_value = '01-01-08'\n",
    "# create the new column for the second data set\n",
    "stud0708_year = stud0708_renamed.compute([\n",
    "    ('year', datecolumn())\n",
    "], replace=True)\n"
   ]
  },
  {
   "cell_type": "code",
   "execution_count": 15,
   "metadata": {
    "collapsed": false
   },
   "outputs": [],
   "source": [
    "# combine the two tables\n",
    "combined = agate.Table.merge([stud0607_year, stud0708_year])"
   ]
  },
  {
   "cell_type": "code",
   "execution_count": 16,
   "metadata": {
    "collapsed": false
   },
   "outputs": [
    {
     "name": "stdout",
     "output_type": "stream",
     "text": [
      "| CAMPUS    | GOOD_COL_01 | GOOD_COL_02 |     year |\n",
      "| --------- | ----------- | ----------- | -------- |\n",
      "| 001902001 |       4,094 |       1,354 | 01-01-07 |\n",
      "| 001902041 |           0 |           0 | 01-01-07 |\n",
      "| 001902103 |           0 |           0 | 01-01-07 |\n",
      "| 001903001 |       2,568 |       1,205 | 01-01-07 |\n",
      "| 001903041 |           0 |           0 | 01-01-07 |\n",
      "| 001902001 |       4,831 |       1,539 | 01-01-08 |\n",
      "| 001902041 |           0 |           0 | 01-01-08 |\n",
      "| 001902103 |           0 |           0 | 01-01-08 |\n",
      "| 001903001 |       2,975 |       1,089 | 01-01-08 |\n",
      "| 001903041 |           0 |           0 | 01-01-08 |\n"
     ]
    }
   ],
   "source": [
    "# print to show we got them\n",
    "combined.print_table()"
   ]
  },
  {
   "cell_type": "code",
   "execution_count": null,
   "metadata": {
    "collapsed": true
   },
   "outputs": [],
   "source": []
  }
 ],
 "metadata": {
  "kernelspec": {
   "display_name": "Python 3",
   "language": "python",
   "name": "python3"
  },
  "language_info": {
   "codemirror_mode": {
    "name": "ipython",
    "version": 3
   },
   "file_extension": ".py",
   "mimetype": "text/x-python",
   "name": "python",
   "nbconvert_exporter": "python",
   "pygments_lexer": "ipython3",
   "version": "3.5.1"
  }
 },
 "nbformat": 4,
 "nbformat_minor": 0
}
