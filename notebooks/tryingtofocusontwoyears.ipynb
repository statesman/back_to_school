{
 "cells": [
  {
   "cell_type": "code",
   "execution_count": 1,
   "metadata": {
    "collapsed": true
   },
   "outputs": [],
   "source": [
    "import agate"
   ]
  },
  {
   "cell_type": "code",
   "execution_count": 2,
   "metadata": {
    "collapsed": true
   },
   "outputs": [],
   "source": [
    "specified_types = {\n",
    "    'CAMPUS': agate.Text()\n",
    "}\n",
    "\n",
    "students0607 = agate.Table.from_csv('../raw_data/0607student.txt')\n",
    "students1516 = agate.Table.from_csv('../raw_data/1516student.txt')\n",
    "cr0607 = agate.Table.from_csv('../raw_data/0607cr.txt')\n",
    "cr1516 = agate.Table.from_csv('../raw_data/1516cr.txt')\n",
    "locations = agate.Table.from_csv('../raw_data/Current_Schools.csv')"
   ]
  },
  {
   "cell_type": "code",
   "execution_count": 3,
   "metadata": {
    "collapsed": true
   },
   "outputs": [],
   "source": [
    "join0607 = students0607.join(cr0607, left_key = 'CAMPUS', full_outer = 'true', require_match = 'false', columns = 'true')\n",
    "join1516 = students1516.join(cr1516, left_key = 'CAMPUS', full_outer = 'true', require_match = 'false', columns = 'true')\n"
   ]
  },
  {
   "cell_type": "code",
   "execution_count": 4,
   "metadata": {
    "collapsed": true
   },
   "outputs": [],
   "source": [
    "columns_one = ['CAMPUS', 'CPETALLC','CPETBLAC', 'CPETHISC', 'CPETWHIC', 'CPETINDC', 'CPETPACC',\n",
    "        'CPETECOC', 'CPETLEPC','CPETRSKC', 'CPETBLAP','CPETHISP','CPETWHIP', 'CPETINDP', 'CPETPACP', 'CPETECOP','CPETLEPP',\n",
    "'CPETRSKP','CPETBILC', 'DISTNAME', 'CAMPNAME', 'CNTYNAME']\n",
    "\n",
    "columns_three = ['CAMPUS', 'CPETALLC','CPETBLAC', 'CPETHISC', 'CPETWHIC', 'CPETINDC', 'CPETASIC', 'CPETPCIC', 'CPETTWOC',\n",
    "       'CPETECOC', 'CPETLEPC','CPETBLAP','CPETHISP','CPETWHIP','CPETINDP', 'CPETASIP', 'CPETPCIP', 'CPETTWOP', 'CPETECOP','CPETLEPP', 'DISTNAME', 'CAMPNAME', 'CNTYNAME']\n",
    " \n",
    "campus0607_select = join0607.select(columns_one)\n",
    "campus1516_select = join1516.select(columns_three)"
   ]
  },
  {
   "cell_type": "code",
   "execution_count": 24,
   "metadata": {
    "collapsed": true
   },
   "outputs": [],
   "source": [
    "column_names_one = {'CAMPUS': 'CAMPUS',\n",
    "                                       'CPETALLC': 'ALL_0607',\n",
    "                                       'CPETBLAC': 'B_0607',\n",
    "                                       'CPETHISC': 'H_0607',\n",
    "                                       'CPETWHIC': 'W_0607',\n",
    "                                       'CPETINDC': 'AI_0607',\n",
    "                                       'CPETPACC': 'API_0607',\n",
    "                                       'CPETECOC': 'EC_0607',\n",
    "                                       'CPETLEPC': 'EL_0607',\n",
    "                                       'CPETRSKC': 'AT_0607',\n",
    "                                       'CPETBLAP': 'BP_0607',\n",
    "                                       'CPETHISP': 'HP_0607',\n",
    "                                       'CPETWHIP': 'WP_0607',\n",
    "                                       'CPETINDP': 'AIP_0607',\n",
    "                                       'CPETPACP': 'APIP_0607',\n",
    "                                       'CPETECOP': 'ECP_0607',\n",
    "                                       'CPETLEPP': 'ELP_0607',\n",
    "                                       'CPETRSKP': 'ATP_0607',\n",
    "                                       'CPETBILC': 'BILINGUAL_ENROLL'}\n",
    "column_names_three = {'CAMPUS': 'CAMPUS',\n",
    "                                       'CPETALLC': 'ALL_1516',\n",
    "                                       'CPETBLAC': 'B_1516',\n",
    "                                       'CPETHISC': 'H_1516',\n",
    "                                       'CPETWHIC': 'W_1516',\n",
    "                                       'CPETINDC': 'AI_1516',\n",
    "                                       'CPETASIC': 'AS_1516',\n",
    "                                       'CPETPCIC': 'PI_1516',\n",
    "                                       'CPETTWOC': 'TWO_1516',\n",
    "                                       'CPETECOC': 'EC_1516',\n",
    "                                       'CPETLEPC': 'EL_1516',\n",
    "                                       'CPETBLAP': 'BP_1516',\n",
    "                                       'CPETHISP': 'HP_1516',\n",
    "                                       'CPETWHIP': 'WP_1516',\n",
    "                                       'CPETINDP': 'AIP_1516',\n",
    "                                       'CPETASIP': 'ASP_1516',\n",
    "                                       'CPETPCIP': 'PIP_1516',\n",
    "                                       'CPETTWOP': 'TWOP_1516',                \n",
    "                                       'CPETECOP': 'ECP_1516',\n",
    "                                       'CPETLEPP': 'ELP_1516',\n",
    "                                       'CPETBILC': 'BILINGUAL_ENROLL'}\n",
    "campus0607_rename = campus0607_select.rename(column_names_one)\n",
    "campus1516_rename = campus1516_select.rename(column_names_three)"
   ]
  },
  {
   "cell_type": "code",
   "execution_count": 25,
   "metadata": {
    "collapsed": true
   },
   "outputs": [],
   "source": [
    "class datecolumn(agate.Computation): \n",
    "    def get_computed_data_type(self, table):\n",
    "        return agate.Text()\n",
    "    def run(self, table):\n",
    "        new_column = []\n",
    "        for row in table.rows:\n",
    "            new_column.append(year_value)\n",
    "        return new_column\n",
    "    \n",
    "year_value = '2007-01-01'\n",
    "campus0607_date = campus0607_rename.compute([\n",
    "    ('year', datecolumn())\n",
    "])"
   ]
  },
  {
   "cell_type": "code",
   "execution_count": 26,
   "metadata": {
    "collapsed": true
   },
   "outputs": [],
   "source": [
    "year_value = '2016-01-01'\n",
    "campus1516_date = campus1516_rename.compute([\n",
    "    ('year', datecolumn())\n",
    "])"
   ]
  },
  {
   "cell_type": "code",
   "execution_count": 27,
   "metadata": {},
   "outputs": [],
   "source": [
    "campus_full = agate.Table.merge([campus0607_date, campus1516_date])\n",
    "\n",
    "## Now filter to needed districts.\n",
    "\n",
    "district_ids = ['AUSTIN ISD', 'ROUND ROCK ISD', 'LEANDER ISD', 'PFLUGERVILLE ISD', 'HAYS CISD', 'DEL VALLE ISD', 'GEORGETOWN ISD', 'BASTROP ISD', 'MANOR ISD', 'LAKE TRAVIS ISD', 'EANES ISD', 'SAN MARCOS CISD', 'HUTTO ISD', 'DRIPPING SPRINGS ISD', 'ELGIN ISD']\n",
    "\n",
    "campus_filtertwo = campus_full.where(lambda row: row['DISTNAME'].upper() in district_ids\n",
    "                              )\n",
    "\n",
    "campus_filtertwo.to_csv(path='campus_filtertwo.csv')"
   ]
  },
  {
   "cell_type": "code",
   "execution_count": 28,
   "metadata": {
    "collapsed": true
   },
   "outputs": [],
   "source": [
    "located = campus_filtertwo.join(locations, 'CAMPUS')"
   ]
  },
  {
   "cell_type": "code",
   "execution_count": 29,
   "metadata": {},
   "outputs": [],
   "source": [
    "latlong = {'\\ufeffX': 'longitude',\n",
    "          'Y': 'latitude'}\n",
    "located = located.rename(latlong)\n"
   ]
  },
  {
   "cell_type": "code",
   "execution_count": 32,
   "metadata": {
    "collapsed": true
   },
   "outputs": [],
   "source": [
    "location_columns = ['DISTNAME', 'CAMPNAME', 'CNTYNAME', 'longitude', 'latitude','STREET', 'CITY', 'ZIP','CAMPUS',\n",
    "                    'ALL_0607','ALL_1516','B_0607','B_1516','H_0607','H_1516','W_0607','W_1516','AI_0607','AI_1516',\n",
    "                    'API_0607','AS_1516','PI_1516','TWO_1516','EC_0607','EC_1516','EL_0607','EL_1516','AT_0607',\n",
    "                    'BP_0607','BP_1516','HP_0607','HP_1516','WP_0607','WP_1516','AIP_0607','AIP_1516',\n",
    "                    'APIP_0607','ASP_1516','PIP_1516','TWOP_1516','ECP_0607','ECP_1516','ELP_0607','ELP_1516','ATP_0607']"
   ]
  },
  {
   "cell_type": "code",
   "execution_count": 33,
   "metadata": {
    "collapsed": true
   },
   "outputs": [],
   "source": [
    "locationfiltertwo = located.select(location_columns)\n",
    "locationfiltertwo.to_csv(path='locationfiltertwo.csv')"
   ]
  },
  {
   "cell_type": "code",
   "execution_count": 23,
   "metadata": {},
   "outputs": [],
   "source": []
  },
  {
   "cell_type": "code",
   "execution_count": null,
   "metadata": {
    "collapsed": true
   },
   "outputs": [],
   "source": []
  }
 ],
 "metadata": {
  "kernelspec": {
   "display_name": "Python 3",
   "language": "python",
   "name": "python3"
  },
  "language_info": {
   "codemirror_mode": {
    "name": "ipython",
    "version": 3
   },
   "file_extension": ".py",
   "mimetype": "text/x-python",
   "name": "python",
   "nbconvert_exporter": "python",
   "pygments_lexer": "ipython3",
   "version": "3.6.1"
  }
 },
 "nbformat": 4,
 "nbformat_minor": 2
}
