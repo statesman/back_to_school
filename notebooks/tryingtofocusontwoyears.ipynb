{
 "cells": [
  {
   "cell_type": "code",
   "execution_count": 1,
   "metadata": {
    "collapsed": true
   },
   "outputs": [],
   "source": [
    "import agate"
   ]
  },
  {
   "cell_type": "code",
   "execution_count": 2,
   "metadata": {
    "collapsed": false
   },
   "outputs": [],
   "source": [
    "specified_types = {\n",
    "    'CAMPUS': agate.Text()\n",
    "}\n",
    "\n",
    "# demographic student data\n",
    "students0607 = agate.Table.from_csv('../raw_data/0607student.txt', column_types=specified_types)\n",
    "students1516 = agate.Table.from_csv('../raw_data/1516student.txt', column_types=specified_types)\n",
    "# campus data\n",
    "cr0607 = agate.Table.from_csv('../raw_data/0607cr.txt', column_types=specified_types)\n",
    "cr1516 = agate.Table.from_csv('../raw_data/1516cr.txt', column_types=specified_types)\n",
    "# locations = agate.Table.from_csv('../raw_data/Current_Schools.csv')"
   ]
  },
  {
   "cell_type": "code",
   "execution_count": 3,
   "metadata": {
    "collapsed": false
   },
   "outputs": [],
   "source": [
    "# joins demo and campus data\n",
    "join0607 = students0607.join(cr0607, 'CAMPUS')\n",
    "join1516 = students1516.join(cr1516, 'CAMPUS')\n"
   ]
  },
  {
   "cell_type": "code",
   "execution_count": 4,
   "metadata": {
    "collapsed": true
   },
   "outputs": [],
   "source": [
    "# sets columns to select\n",
    "columns_one = ['CAMPUS', 'CPETALLC','CPETBLAC', 'CPETHISC', 'CPETWHIC', 'CPETINDC', 'CPETPACC',\n",
    "        'CPETECOC', 'CPETLEPC','CPETRSKC', 'CPETBLAP','CPETHISP','CPETWHIP', 'CPETINDP', 'CPETPACP', 'CPETECOP','CPETLEPP',\n",
    "'CPETRSKP','CPETBILC', 'DISTNAME', 'CAMPNAME', 'CNTYNAME']\n",
    "# sets columns to select\n",
    "columns_three = ['CAMPUS', 'CPETALLC','CPETBLAC', 'CPETHISC', 'CPETWHIC', 'CPETINDC', 'CPETASIC', 'CPETPCIC', 'CPETTWOC',\n",
    "       'CPETECOC', 'CPETLEPC','CPETBLAP','CPETHISP','CPETWHIP','CPETINDP', 'CPETASIP', 'CPETPCIP', 'CPETTWOP', 'CPETECOP','CPETLEPP', 'DISTNAME', 'CAMPNAME', 'CNTYNAME']\n",
    "\n",
    "# selects columns we want based on list above\n",
    "campus0607_select = join0607.select(columns_one)\n",
    "campus1516_select = join1516.select(columns_three)"
   ]
  },
  {
   "cell_type": "code",
   "execution_count": 5,
   "metadata": {
    "collapsed": true
   },
   "outputs": [],
   "source": [
    "# renames columns\n",
    "column_names_one = {'CAMPUS': 'CAMPUS',\n",
    "                                       'CPETALLC': 'ALL_0607',\n",
    "                                       'CPETBLAC': 'B_0607',\n",
    "                                       'CPETHISC': 'H_0607',\n",
    "                                       'CPETWHIC': 'W_0607',\n",
    "                                       'CPETINDC': 'AI_0607',\n",
    "                                       'CPETPACC': 'API_0607',\n",
    "                                       'CPETECOC': 'EC_0607',\n",
    "                                       'CPETLEPC': 'EL_0607',\n",
    "                                       'CPETRSKC': 'AT_0607',\n",
    "                                       'CPETBLAP': 'BP_0607',\n",
    "                                       'CPETHISP': 'HP_0607',\n",
    "                                       'CPETWHIP': 'WP_0607',\n",
    "                                       'CPETINDP': 'AIP_0607',\n",
    "                                       'CPETPACP': 'APIP_0607',\n",
    "                                       'CPETECOP': 'ECP_0607',\n",
    "                                       'CPETLEPP': 'ELP_0607',\n",
    "                                       'CPETRSKP': 'ATP_0607',\n",
    "                                       'CPETBILC': 'BILINGUAL_ENROLL'}\n",
    "column_names_three = {'CAMPUS': 'CAMPUS',\n",
    "                                       'CPETALLC': 'ALL_1516',\n",
    "                                       'CPETBLAC': 'B_1516',\n",
    "                                       'CPETHISC': 'H_1516',\n",
    "                                       'CPETWHIC': 'W_1516',\n",
    "                                       'CPETINDC': 'AI_1516',\n",
    "                                       'CPETASIC': 'AS_1516',\n",
    "                                       'CPETPCIC': 'PI_1516',\n",
    "                                       'CPETTWOC': 'TWO_1516',\n",
    "                                       'CPETECOC': 'EC_1516',\n",
    "                                       'CPETLEPC': 'EL_1516',\n",
    "                                       'CPETBLAP': 'BP_1516',\n",
    "                                       'CPETHISP': 'HP_1516',\n",
    "                                       'CPETWHIP': 'WP_1516',\n",
    "                                       'CPETINDP': 'AIP_1516',\n",
    "                                       'CPETASIP': 'ASP_1516',\n",
    "                                       'CPETPCIP': 'PIP_1516',\n",
    "                                       'CPETTWOP': 'TWOP_1516',                \n",
    "                                       'CPETECOP': 'ECP_1516',\n",
    "                                       'CPETLEPP': 'ELP_1516',\n",
    "                                       'CPETBILC': 'BILINGUAL_ENROLL'}\n",
    "campus0607_rename = campus0607_select.rename(column_names_one)\n",
    "campus1516_rename = campus1516_select.rename(column_names_three)"
   ]
  },
  {
   "cell_type": "code",
   "execution_count": 6,
   "metadata": {
    "collapsed": false
   },
   "outputs": [
    {
     "name": "stdout",
     "output_type": "stream",
     "text": [
      "| column           | data_type |\n",
      "| ---------------- | --------- |\n",
      "| CAMPUS           | Text      |\n",
      "| ALL_0607         | Number    |\n",
      "| B_0607           | Number    |\n",
      "| H_0607           | Number    |\n",
      "| W_0607           | Number    |\n",
      "| AI_0607          | Number    |\n",
      "| API_0607         | Number    |\n",
      "| EC_0607          | Number    |\n",
      "| EL_0607          | Number    |\n",
      "| AT_0607          | Number    |\n",
      "| BP_0607          | Number    |\n",
      "| HP_0607          | Number    |\n",
      "| WP_0607          | Number    |\n",
      "| AIP_0607         | Number    |\n",
      "| APIP_0607        | Number    |\n",
      "| ECP_0607         | Number    |\n",
      "| ELP_0607         | Number    |\n",
      "| ATP_0607         | Number    |\n",
      "| BILINGUAL_ENROLL | Number    |\n",
      "| DISTNAME         | Text      |\n",
      "| CAMPNAME         | Text      |\n",
      "| CNTYNAME         | Text      |\n",
      "\n",
      "| column    | data_type |\n",
      "| --------- | --------- |\n",
      "| CAMPUS    | Text      |\n",
      "| ALL_1516  | Number    |\n",
      "| B_1516    | Number    |\n",
      "| H_1516    | Number    |\n",
      "| W_1516    | Number    |\n",
      "| AI_1516   | Number    |\n",
      "| AS_1516   | Number    |\n",
      "| PI_1516   | Number    |\n",
      "| TWO_1516  | Number    |\n",
      "| EC_1516   | Number    |\n",
      "| EL_1516   | Number    |\n",
      "| BP_1516   | Number    |\n",
      "| HP_1516   | Number    |\n",
      "| WP_1516   | Number    |\n",
      "| AIP_1516  | Number    |\n",
      "| ASP_1516  | Number    |\n",
      "| PIP_1516  | Number    |\n",
      "| TWOP_1516 | Number    |\n",
      "| ECP_1516  | Number    |\n",
      "| ELP_1516  | Number    |\n",
      "| DISTNAME  | Text      |\n",
      "| CAMPNAME  | Text      |\n",
      "| CNTYNAME  | Text      |\n",
      "\n"
     ]
    }
   ],
   "source": [
    "# printing column names to check them\n",
    "print(campus0607_rename)\n",
    "print(campus1516_rename)"
   ]
  },
  {
   "cell_type": "code",
   "execution_count": 7,
   "metadata": {
    "collapsed": true
   },
   "outputs": [],
   "source": [
    "# Function to create a year column\n",
    "class datecolumn(agate.Computation): \n",
    "    def get_computed_data_type(self, table):\n",
    "        return agate.Text()\n",
    "    def run(self, table):\n",
    "        new_column = []\n",
    "        for row in table.rows:\n",
    "            new_column.append(year_value)\n",
    "        return new_column\n"
   ]
  },
  {
   "cell_type": "code",
   "execution_count": 8,
   "metadata": {
    "collapsed": true
   },
   "outputs": [],
   "source": [
    "# add date for 0607    \n",
    "year_value = '2007-01-01'\n",
    "campus0607_date = campus0607_rename.compute([\n",
    "    ('year', datecolumn())\n",
    "])\n",
    "# add date for 1516\n",
    "year_value = '2016-01-01'\n",
    "campus1516_date = campus1516_rename.compute([\n",
    "    ('year', datecolumn())\n",
    "])"
   ]
  },
  {
   "cell_type": "code",
   "execution_count": 9,
   "metadata": {
    "collapsed": false
   },
   "outputs": [
    {
     "name": "stdout",
     "output_type": "stream",
     "text": [
      "| column           | data_type |\n",
      "| ---------------- | --------- |\n",
      "| CAMPUS           | Text      |\n",
      "| ALL_1516         | Number    |\n",
      "| B_1516           | Number    |\n",
      "| H_1516           | Number    |\n",
      "| W_1516           | Number    |\n",
      "| AI_1516          | Number    |\n",
      "| AS_1516          | Number    |\n",
      "| PI_1516          | Number    |\n",
      "| TWO_1516         | Number    |\n",
      "| EC_1516          | Number    |\n",
      "| EL_1516          | Number    |\n",
      "| BP_1516          | Number    |\n",
      "| HP_1516          | Number    |\n",
      "| WP_1516          | Number    |\n",
      "| AIP_1516         | Number    |\n",
      "| ASP_1516         | Number    |\n",
      "| PIP_1516         | Number    |\n",
      "| TWOP_1516        | Number    |\n",
      "| ECP_1516         | Number    |\n",
      "| ELP_1516         | Number    |\n",
      "| DISTNAME         | Text      |\n",
      "| CAMPNAME         | Text      |\n",
      "| CNTYNAME         | Text      |\n",
      "| year             | Text      |\n",
      "| ALL_0607         | Number    |\n",
      "| B_0607           | Number    |\n",
      "| H_0607           | Number    |\n",
      "| W_0607           | Number    |\n",
      "| AI_0607          | Number    |\n",
      "| API_0607         | Number    |\n",
      "| EC_0607          | Number    |\n",
      "| EL_0607          | Number    |\n",
      "| AT_0607          | Number    |\n",
      "| BP_0607          | Number    |\n",
      "| HP_0607          | Number    |\n",
      "| WP_0607          | Number    |\n",
      "| AIP_0607         | Number    |\n",
      "| APIP_0607        | Number    |\n",
      "| ECP_0607         | Number    |\n",
      "| ELP_0607         | Number    |\n",
      "| ATP_0607         | Number    |\n",
      "| BILINGUAL_ENROLL | Number    |\n",
      "| DISTNAME2        | Text      |\n",
      "| CAMPNAME2        | Text      |\n",
      "| CNTYNAME2        | Text      |\n",
      "| year2            | Text      |\n",
      "\n"
     ]
    }
   ],
   "source": [
    "## campus_full = agate.Table.merge([campus0607_date, campus1516_date])\n",
    "## ^^^ dont' do this. We don't want them on top of each other.\n",
    "\n",
    "## this takes the later date data and joins it with the ealier data\n",
    "combo = campus1516_date.join(campus0607_date, 'CAMPUS')\n",
    "print(combo)\n"
   ]
  },
  {
   "cell_type": "code",
   "execution_count": 10,
   "metadata": {
    "collapsed": false
   },
   "outputs": [],
   "source": [
    "\n",
    "## Now filter to needed districts.\n",
    "\n",
    "district_ids = ['AUSTIN ISD', 'ROUND ROCK ISD', 'LEANDER ISD', 'PFLUGERVILLE ISD', 'HAYS CISD', 'DEL VALLE ISD', 'GEORGETOWN ISD', 'BASTROP ISD', 'MANOR ISD', 'LAKE TRAVIS ISD', 'EANES ISD', 'SAN MARCOS CISD', 'HUTTO ISD', 'DRIPPING SPRINGS ISD', 'ELGIN ISD']\n",
    "\n",
    "combo_filtered = combo.where(lambda row: row['DISTNAME'].upper() in district_ids\n",
    "                              )\n",
    "\n",
    "# campus_filtertwo.to_csv(path='campus_filtertwo.csv')"
   ]
  },
  {
   "cell_type": "code",
   "execution_count": 11,
   "metadata": {
    "collapsed": false
   },
   "outputs": [
    {
     "name": "stdout",
     "output_type": "stream",
     "text": [
      "| DISTNAME    | CAMPNAME             |\n",
      "| ----------- | -------------------- |\n",
      "| BASTROP ISD | BASTROP H S          |\n",
      "| BASTROP ISD | CEDAR CREEK H S      |\n",
      "| BASTROP ISD | COLORADO RIVER CO... |\n",
      "| BASTROP ISD | GENESIS H S          |\n",
      "| BASTROP ISD | GATEWAY SCH          |\n",
      "| BASTROP ISD | BASTROP MIDDLE       |\n",
      "| BASTROP ISD | EMILE EL             |\n",
      "| BASTROP ISD | MINA EL              |\n",
      "| BASTROP ISD | CEDAR CREEK EL       |\n",
      "| BASTROP ISD | BASTROP INT          |\n",
      "| BASTROP ISD | CEDAR CREEK MIDDLE   |\n",
      "| BASTROP ISD | RED ROCK EL          |\n",
      "| BASTROP ISD | CEDAR CREEK INT      |\n",
      "| BASTROP ISD | BLUEBONNET EL        |\n",
      "| BASTROP ISD | LOST PINES EL        |\n",
      "| ELGIN ISD   | ELGIN H S            |\n",
      "| ELGIN ISD   | PHOENIX H S          |\n",
      "| ELGIN ISD   | ELGIN MIDDLE         |\n",
      "| ELGIN ISD   | BOOKER T WASHINGT... |\n",
      "| ELGIN ISD   | ELGIN EL             |\n",
      "| ...         | ...                  |\n"
     ]
    }
   ],
   "source": [
    "# TESTING TO MAKE SURE I FILTERED\n",
    "combo_filtered.select(['DISTNAME', 'CAMPNAME']).print_table()\n",
    "\n",
    "\n",
    "###### THIS IS WHERE I STOPPED #####\n",
    "## you'll want to select just the columns you need"
   ]
  },
  {
   "cell_type": "code",
   "execution_count": 12,
   "metadata": {
    "collapsed": false
   },
   "outputs": [
    {
     "ename": "NameError",
     "evalue": "name 'campus_filtertwo' is not defined",
     "output_type": "error",
     "traceback": [
      "\u001b[0;31m---------------------------------------------------------------------------\u001b[0m",
      "\u001b[0;31mNameError\u001b[0m                                 Traceback (most recent call last)",
      "\u001b[0;32m<ipython-input-12-2a9d6453b6b3>\u001b[0m in \u001b[0;36m<module>\u001b[0;34m()\u001b[0m\n\u001b[0;32m----> 1\u001b[0;31m \u001b[0mlocated\u001b[0m \u001b[0;34m=\u001b[0m \u001b[0mcampus_filtertwo\u001b[0m\u001b[0;34m.\u001b[0m\u001b[0mjoin\u001b[0m\u001b[0;34m(\u001b[0m\u001b[0mlocations\u001b[0m\u001b[0;34m,\u001b[0m \u001b[0;34m'CAMPUS'\u001b[0m\u001b[0;34m)\u001b[0m\u001b[0;34m\u001b[0m\u001b[0m\n\u001b[0m",
      "\u001b[0;31mNameError\u001b[0m: name 'campus_filtertwo' is not defined"
     ]
    }
   ],
   "source": [
    "located = campus_filtertwo.join(locations, 'CAMPUS')"
   ]
  },
  {
   "cell_type": "code",
   "execution_count": null,
   "metadata": {
    "collapsed": true
   },
   "outputs": [],
   "source": [
    "latlong = {'\\ufeffX': 'longitude',\n",
    "          'Y': 'latitude'}\n",
    "located = located.rename(latlong)\n"
   ]
  },
  {
   "cell_type": "code",
   "execution_count": null,
   "metadata": {
    "collapsed": true
   },
   "outputs": [],
   "source": [
    "location_columns = ['DISTNAME', 'CAMPNAME', 'CNTYNAME', 'longitude', 'latitude','STREET', 'CITY', 'ZIP','CAMPUS',\n",
    "                    'ALL_0607','ALL_1516','B_0607','B_1516','H_0607','H_1516','W_0607','W_1516','AI_0607','AI_1516',\n",
    "                    'API_0607','AS_1516','PI_1516','TWO_1516','EC_0607','EC_1516','EL_0607','EL_1516','AT_0607',\n",
    "                    'BP_0607','BP_1516','HP_0607','HP_1516','WP_0607','WP_1516','AIP_0607','AIP_1516',\n",
    "                    'APIP_0607','ASP_1516','PIP_1516','TWOP_1516','ECP_0607','ECP_1516','ELP_0607','ELP_1516','ATP_0607']"
   ]
  },
  {
   "cell_type": "code",
   "execution_count": null,
   "metadata": {
    "collapsed": true
   },
   "outputs": [],
   "source": [
    "locationfiltertwo = located.select(location_columns)\n",
    "locationfiltertwo.to_csv(path='locationfiltertwo.csv')"
   ]
  },
  {
   "cell_type": "code",
   "execution_count": null,
   "metadata": {
    "collapsed": true
   },
   "outputs": [],
   "source": []
  },
  {
   "cell_type": "code",
   "execution_count": null,
   "metadata": {
    "collapsed": true
   },
   "outputs": [],
   "source": []
  }
 ],
 "metadata": {
  "kernelspec": {
   "display_name": "Python 3",
   "language": "python",
   "name": "python3"
  },
  "language_info": {
   "codemirror_mode": {
    "name": "ipython",
    "version": 3
   },
   "file_extension": ".py",
   "mimetype": "text/x-python",
   "name": "python",
   "nbconvert_exporter": "python",
   "pygments_lexer": "ipython3",
   "version": "3.5.1"
  }
 },
 "nbformat": 4,
 "nbformat_minor": 2
}
