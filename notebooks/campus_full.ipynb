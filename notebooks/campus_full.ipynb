{
 "cells": [
  {
   "cell_type": "code",
   "execution_count": 3,
   "metadata": {
    "collapsed": true
   },
   "outputs": [],
   "source": [
    "import agate"
   ]
  },
  {
   "cell_type": "markdown",
   "metadata": {},
   "source": [
    "## This is how I got 10 years of campus data ready for analysis and visualization in Tableau. \n"
   ]
  },
  {
   "cell_type": "markdown",
   "metadata": {},
   "source": [
    "## Bring all the raw data in"
   ]
  },
  {
   "cell_type": "code",
   "execution_count": 4,
   "metadata": {
    "collapsed": true
   },
   "outputs": [],
   "source": [
    "##create column type, 'campus' text\n",
    "specified_types = {\n",
    "    'CAMPUS': agate.Text()\n",
    "}\n",
    "\n",
    "students0607 = agate.Table.from_csv('../raw_data/0607student.txt')\n",
    "students0708 = agate.Table.from_csv('../raw_data/0708student.txt')\n",
    "students0809 = agate.Table.from_csv('../raw_data/0809student.txt')\n",
    "students0910 = agate.Table.from_csv('../raw_data/910student.txt')\n",
    "students1011 = agate.Table.from_csv('../raw_data/1011student.txt')\n",
    "students1112 = agate.Table.from_csv('../raw_data/1112student.txt')\n",
    "students1213 = agate.Table.from_csv('../raw_data/1213student.txt')\n",
    "students1314 = agate.Table.from_csv('../raw_data/1314student.txt')\n",
    "students1415 = agate.Table.from_csv('../raw_data/1415student.txt')\n",
    "students1516 = agate.Table.from_csv('../raw_data/1516student.txt')\n",
    "cr0607 = agate.Table.from_csv('../raw_data/0607cr.txt')\n",
    "cr0708 = agate.Table.from_csv('../raw_data/0708cr.txt')\n",
    "cr0809 = agate.Table.from_csv('../raw_data/0809cr.txt')\n",
    "cr0910 = agate.Table.from_csv('../raw_data/910cr.txt')\n",
    "cr1011 = agate.Table.from_csv('../raw_data/1011cr.txt')\n",
    "cr1112 = agate.Table.from_csv('../raw_data/1112cr.txt')\n",
    "cr1213 = agate.Table.from_csv('../raw_data/1213cr.txt')\n",
    "cr1314 = agate.Table.from_csv('../raw_data/1314cr.txt')\n",
    "cr1415 = agate.Table.from_csv('../raw_data/1415cr.txt')\n",
    "cr1516 = agate.Table.from_csv('../raw_data/1516cr.txt')\n",
    "locations = agate.Table.from_csv('../raw_data/Current_Schools.csv')\n",
    "#brought in all campus data, campus reference lists, campus locations. "
   ]
  },
  {
   "cell_type": "markdown",
   "metadata": {},
   "source": [
    "## Join on the campus column"
   ]
  },
  {
   "cell_type": "code",
   "execution_count": 5,
   "metadata": {
    "collapsed": true
   },
   "outputs": [],
   "source": [
    "join0607 = students0607.join(cr0607, left_key = 'CAMPUS', full_outer = 'true', require_match = 'false', columns = 'true')\n",
    "join0708 = students0708.join(cr0708, left_key = 'CAMPUS', full_outer = 'true', require_match = 'false', columns = 'true')\n",
    "join0809 = students0809.join(cr0809, left_key = 'CAMPUS', full_outer = 'true', require_match = 'false', columns = 'true')\n",
    "join0910 = students0910.join(cr0910, left_key = 'CAMPUS', full_outer = 'true', require_match = 'false', columns = 'true')\n",
    "join1011 = students1011.join(cr1011, left_key = 'CAMPUS', full_outer = 'true', require_match = 'false', columns = 'true')\n",
    "join1112 = students1112.join(cr1112, left_key = 'CAMPUS', full_outer = 'true', require_match = 'false', columns = 'true')\n",
    "join1213 = students1213.join(cr1213, left_key = 'CAMPUS', full_outer = 'true', require_match = 'false', columns = 'true')\n",
    "join1314 = students1314.join(cr1314, left_key = 'CAMPUS', full_outer = 'true', require_match = 'false', columns = 'true')\n",
    "join1415 = students1415.join(cr1415, left_key = 'CAMPUS', full_outer = 'true', require_match = 'false', columns = 'true')\n",
    "join1516 = students1516.join(cr1516, left_key = 'CAMPUS', full_outer = 'true', require_match = 'false', columns = 'true')\n"
   ]
  },
  {
   "cell_type": "markdown",
   "metadata": {},
   "source": [
    "## Make individual column filters, apply to the joined tables"
   ]
  },
  {
   "cell_type": "code",
   "execution_count": 6,
   "metadata": {
    "collapsed": true
   },
   "outputs": [],
   "source": [
    "#The types of data available changed a few times, so we need different column sets to get everything we want. \n",
    "\n",
    "columns_one = ['CAMPUS', 'CPETALLC','CPETBLAC', 'CPETHISC', 'CPETWHIC', 'CPETINDC', 'CPETPACC',\n",
    "        'CPETECOC', 'CPETLEPC','CPETRSKC', 'CPETBLAP','CPETHISP','CPETWHIP', 'CPETINDP', 'CPETPACP', 'CPETECOP','CPETLEPP',\n",
    "'CPETRSKP','CPETBILC', 'DISTNAME', 'CAMPNAME', 'CNTYNAME']\n",
    "\n",
    "columns_two = ['CAMPUS', 'CPETALLC','CPETBLAC', 'CPETHISC', 'CPETWHIC', 'CPETINDC', 'CPETASIC', 'CPETPCIC',\n",
    "        'CPETECOC', 'CPETLEPC','CPETRSKC', 'CPETBLAP','CPETHISP','CPETWHIP', 'CPETINDP', 'CPETASIP', 'CPETPCIP', 'CPETECOP','CPETLEPP',\n",
    "'CPETRSKP','CPETBILC', 'DISTNAME', 'CAMPNAME', 'CNTYNAME']\n",
    "\n",
    "columns_three = ['CAMPUS', 'CPETALLC','CPETBLAC', 'CPETHISC', 'CPETWHIC', 'CPETINDC', 'CPETASIC', 'CPETPCIC', 'CPETTWOC',\n",
    "       'CPETECOC', 'CPETLEPC','CPETBLAP','CPETHISP','CPETWHIP','CPETINDP', 'CPETASIP', 'CPETPCIP', 'CPETTWOP', 'CPETECOP','CPETLEPP', 'DISTNAME', 'CAMPNAME', 'CNTYNAME']\n",
    " \n",
    "    \n",
    "campus0607_select = join0607.select(columns_one)\n",
    "campus0708_select = join0708.select(columns_one)\n",
    "campus0809_select = join0809.select(columns_one)\n",
    "campus0910_select = join0910.select(columns_one)\n",
    "campus1011_select = join1011.select(columns_two)\n",
    "campus1112_select = join1112.select(columns_three)\n",
    "campus1213_select = join1213.select(columns_three)\n",
    "campus1314_select = join1314.select(columns_three)\n",
    "campus1415_select = join1415.select(columns_three)\n",
    "campus1516_select = join1516.select(columns_three)"
   ]
  },
  {
   "cell_type": "code",
   "execution_count": 2,
   "metadata": {},
   "outputs": [
    {
     "ename": "NameError",
     "evalue": "name 'campus0607_select' is not defined",
     "output_type": "error",
     "traceback": [
      "\u001b[0;31m---------------------------------------------------------------------------\u001b[0m",
      "\u001b[0;31mNameError\u001b[0m                                 Traceback (most recent call last)",
      "\u001b[0;32m<ipython-input-2-bf0b9e2f55d0>\u001b[0m in \u001b[0;36m<module>\u001b[0;34m()\u001b[0m\n\u001b[1;32m     63\u001b[0m                                        'CPETBILC': 'BILINGUAL_ENROLL'}\n\u001b[1;32m     64\u001b[0m \u001b[0;34m\u001b[0m\u001b[0m\n\u001b[0;32m---> 65\u001b[0;31m \u001b[0mcampus0607_rename\u001b[0m \u001b[0;34m=\u001b[0m \u001b[0mcampus0607_select\u001b[0m\u001b[0;34m.\u001b[0m\u001b[0mrename\u001b[0m\u001b[0;34m(\u001b[0m\u001b[0mcolumn_names_one\u001b[0m\u001b[0;34m)\u001b[0m\u001b[0;34m\u001b[0m\u001b[0m\n\u001b[0m\u001b[1;32m     66\u001b[0m \u001b[0mcampus0708_rename\u001b[0m \u001b[0;34m=\u001b[0m \u001b[0mcampus0708_select\u001b[0m\u001b[0;34m.\u001b[0m\u001b[0mrename\u001b[0m\u001b[0;34m(\u001b[0m\u001b[0mcolumn_names_one\u001b[0m\u001b[0;34m)\u001b[0m\u001b[0;34m\u001b[0m\u001b[0m\n\u001b[1;32m     67\u001b[0m \u001b[0mcampus0809_rename\u001b[0m \u001b[0;34m=\u001b[0m \u001b[0mcampus0809_select\u001b[0m\u001b[0;34m.\u001b[0m\u001b[0mrename\u001b[0m\u001b[0;34m(\u001b[0m\u001b[0mcolumn_names_one\u001b[0m\u001b[0;34m)\u001b[0m\u001b[0;34m\u001b[0m\u001b[0m\n",
      "\u001b[0;31mNameError\u001b[0m: name 'campus0607_select' is not defined"
     ]
    }
   ],
   "source": [
    "#rename all of the columns to things that make sense and match the other column sets \n",
    "column_names_one = {'CAMPUS': 'CAMPUS',\n",
    "                                       'CPETALLC': 'COU_ALL',\n",
    "                                       'CPETBLAC': 'COU_BLACK',\n",
    "                                       'CPETHISC': 'COU_HIS',\n",
    "                                       'CPETWHIC': 'COU_WHITE',\n",
    "                                       'CPETINDC': 'COU_AI',\n",
    "                                       'CPETPACC': 'COU_API',\n",
    "                                       'CPETECOC': 'COU_ECON',\n",
    "                                       'CPETLEPC': 'COU_ELL',\n",
    "                                       'CPETRSKC': 'COU_ATRISK',\n",
    "                                       'CPETBLAP': 'PER_BLACK',\n",
    "                                       'CPETHISP': 'PER_HIS',\n",
    "                                       'CPETWHIP': 'PER_WHITE',\n",
    "                                       'CPETINDP': 'PER_AI',\n",
    "                                       'CPETPACP': 'PER_API',\n",
    "                                       'CPETECOP': 'PER_ECON',\n",
    "                                       'CPETLEPP': 'PER_ELL',\n",
    "                                       'CPETRSKP': 'PER_ATRISK',\n",
    "                                       'CPETBILC': 'BILINGUAL_ENROLL'}\n",
    "\n",
    "column_names_two = {'CAMPUS': 'CAMPUS',\n",
    "                                       'CPETALLC': 'COU_ALL',\n",
    "                                       'CPETBLAC': 'COU_BLACK',\n",
    "                                       'CPETHISC': 'COU_HIS',\n",
    "                                       'CPETWHIC': 'COU_WHITE',\n",
    "                                       'CPETINDC': 'COU_AI',\n",
    "                                       'CPETASIC': 'COU_ASIAN',\n",
    "                                       'CPETPCIC': 'COU_PI',\n",
    "                                       'CPETTWOC': 'COU_TWO',\n",
    "                                       'CPETECOC': 'COU_ECON',\n",
    "                                       'CPETLEPC': 'COU_ELL',\n",
    "                                       'CPETBLAP': 'PER_BLACK',\n",
    "                                       'CPETHISP': 'PER_HIS',\n",
    "                                       'CPETWHIP': 'PER_WHITE',\n",
    "                                       'CPETINDP': 'PER_AI',\n",
    "                                       'CPETASIP': 'PER_ASIAN',\n",
    "                                       'CPETPCIP': 'PER_PI',                \n",
    "                                       'CPETECOP': 'PER_ECON',\n",
    "                                       'CPETLEPP': 'PER_ELL',\n",
    "                                       'CPETBILC': 'BILINGUAL_ENROLL'}\n",
    "\n",
    "column_names_three = {'CAMPUS': 'CAMPUS',\n",
    "                                       'CPETALLC': 'COU_ALL',\n",
    "                                       'CPETBLAC': 'COU_BLACK',\n",
    "                                       'CPETHISC': 'COU_HIS',\n",
    "                                       'CPETWHIC': 'COU_WHITE',\n",
    "                                       'CPETINDC': 'COU_AI',\n",
    "                                       'CPETASIC': 'COU_ASIAN',\n",
    "                                       'CPETPCIC': 'COU_PI',\n",
    "                                       'CPETTWOC': 'COU_TWO',\n",
    "                                       'CPETECOC': 'COU_ECON',\n",
    "                                       'CPETLEPC': 'COU_ELL',\n",
    "                                       'CPETBLAP': 'PER_BLACK',\n",
    "                                       'CPETHISP': 'PER_HIS',\n",
    "                                       'CPETWHIP': 'PER_WHITE',\n",
    "                                       'CPETINDP': 'PER_AI',\n",
    "                                       'CPETASIP': 'PER_ASIAN',\n",
    "                                       'CPETPCIP': 'PER_PI',\n",
    "                                       'CPETTWOP': 'PER_TWO',                \n",
    "                                       'CPETECOP': 'PER_ECON',\n",
    "                                       'CPETLEPP': 'PER_ELL',\n",
    "                                       'CPETBILC': 'BILINGUAL_ENROLL'}\n",
    "\n",
    "campus0607_rename = campus0607_select.rename(column_names_one)\n",
    "campus0708_rename = campus0708_select.rename(column_names_one)\n",
    "campus0809_rename = campus0809_select.rename(column_names_one)\n",
    "campus0910_rename = campus0910_select.rename(column_names_one)\n",
    "campus1011_rename = campus1011_select.rename(column_names_two)\n",
    "campus1112_rename = campus1112_select.rename(column_names_three)\n",
    "campus1213_rename = campus1213_select.rename(column_names_three)\n",
    "campus1314_rename = campus1314_select.rename(column_names_three)\n",
    "campus1415_rename = campus1415_select.rename(column_names_three)\n",
    "campus1516_rename = campus1516_select.rename(column_names_three)\n",
    "#rename the new columns"
   ]
  },
  {
   "cell_type": "markdown",
   "metadata": {},
   "source": [
    "## Use computation to add a year column"
   ]
  },
  {
   "cell_type": "code",
   "execution_count": 8,
   "metadata": {
    "collapsed": true
   },
   "outputs": [],
   "source": [
    "class datecolumn(agate.Computation): \n",
    "    def get_computed_data_type(self, table):\n",
    "        return agate.Text()\n",
    "    def run(self, table):\n",
    "        new_column = []\n",
    "        for row in table.rows:\n",
    "            new_column.append(year_value)\n",
    "        return new_column\n",
    "    \n",
    "year_value = '2007-01-01'\n",
    "campus0607_date = campus0607_rename.compute([\n",
    "    ('year', datecolumn())\n",
    "])\n",
    "\n",
    "## repeat for all of the years\n",
    "# the year column is necessary to tell what data belongs to what year once everything is mashed together and if we want\n",
    "# to make a line graph. "
   ]
  },
  {
   "cell_type": "code",
   "execution_count": 9,
   "metadata": {
    "collapsed": true
   },
   "outputs": [],
   "source": [
    "year_value = '2008-01-01'\n",
    "campus0708_date = campus0708_rename.compute([\n",
    "    ('year', datecolumn())\n",
    "])"
   ]
  },
  {
   "cell_type": "code",
   "execution_count": 10,
   "metadata": {
    "collapsed": true
   },
   "outputs": [],
   "source": [
    "year_value = '2009-01-01'\n",
    "campus0809_date = campus0809_rename.compute([\n",
    "    ('year', datecolumn())\n",
    "])"
   ]
  },
  {
   "cell_type": "code",
   "execution_count": 11,
   "metadata": {
    "collapsed": true
   },
   "outputs": [],
   "source": [
    "year_value = '2010-01-01'\n",
    "campus0910_date = campus0910_rename.compute([\n",
    "    ('year', datecolumn())\n",
    "])"
   ]
  },
  {
   "cell_type": "code",
   "execution_count": 12,
   "metadata": {
    "collapsed": true
   },
   "outputs": [],
   "source": [
    "year_value = '2011-01-01'\n",
    "campus1011_date = campus1011_rename.compute([\n",
    "    ('year', datecolumn())\n",
    "])"
   ]
  },
  {
   "cell_type": "code",
   "execution_count": 13,
   "metadata": {
    "collapsed": true
   },
   "outputs": [],
   "source": [
    "year_value = '2012-01-01'\n",
    "campus1112_date = campus1112_rename.compute([\n",
    "    ('year', datecolumn())\n",
    "])"
   ]
  },
  {
   "cell_type": "code",
   "execution_count": 14,
   "metadata": {
    "collapsed": true
   },
   "outputs": [],
   "source": [
    "year_value = '2013-01-01'\n",
    "campus1213_date = campus1213_rename.compute([\n",
    "    ('year', datecolumn())\n",
    "])"
   ]
  },
  {
   "cell_type": "code",
   "execution_count": 15,
   "metadata": {
    "collapsed": true
   },
   "outputs": [],
   "source": [
    "year_value = '2014-01-01'\n",
    "campus1314_date = campus1314_rename.compute([\n",
    "    ('year', datecolumn())\n",
    "])"
   ]
  },
  {
   "cell_type": "code",
   "execution_count": 16,
   "metadata": {
    "collapsed": true
   },
   "outputs": [],
   "source": [
    "year_value = '2015-01-01'\n",
    "campus1415_date = campus1415_rename.compute([\n",
    "    ('year', datecolumn())\n",
    "])"
   ]
  },
  {
   "cell_type": "code",
   "execution_count": 17,
   "metadata": {
    "collapsed": true
   },
   "outputs": [],
   "source": [
    "year_value = '2016-01-01'\n",
    "campus1516_date = campus1516_rename.compute([\n",
    "    ('year', datecolumn())\n",
    "])"
   ]
  },
  {
   "cell_type": "markdown",
   "metadata": {},
   "source": [
    "## Merge into one table"
   ]
  },
  {
   "cell_type": "code",
   "execution_count": 18,
   "metadata": {
    "collapsed": true
   },
   "outputs": [],
   "source": [
    "campus_full = agate.Table.merge([campus0607_date, campus0708_date, campus0809_date, campus0910_date, campus1011_date, campus1112_date, campus1213_date, campus1314_date, campus1415_date, campus1516_date])\n",
    "\n",
    "## Now filter to needed districts.\n",
    "\n",
    "district_ids = ['AUSTIN ISD', 'ROUND ROCK ISD', 'LEANDER ISD', 'PFLUGERVILLE ISD', 'HAYS CISD', 'DEL VALLE ISD', 'GEORGETOWN ISD', 'BASTROP ISD', 'MANOR ISD', 'LAKE TRAVIS ISD', 'EANES ISD', 'SAN MARCOS CISD', 'HUTTO ISD', 'DRIPPING SPRINGS ISD', 'ELGIN ISD']\n",
    "\n",
    "campus_filter = campus_full.where(lambda row: row['DISTNAME'].upper() in district_ids\n",
    "                              )\n",
    "\n",
    "campus_filter.to_csv(path='campus_filter.csv')\n",
    "\n",
    "## Creating CSV not necessary, only did to make sure it was working. "
   ]
  },
  {
   "cell_type": "markdown",
   "metadata": {},
   "source": [
    "## Join with locations on campus column"
   ]
  },
  {
   "cell_type": "code",
   "execution_count": 19,
   "metadata": {
    "collapsed": true
   },
   "outputs": [],
   "source": [
    "located = campus_filter.join(locations, 'CAMPUS')"
   ]
  },
  {
   "cell_type": "code",
   "execution_count": 20,
   "metadata": {},
   "outputs": [
    {
     "data": {
      "text/plain": [
       "('CAMPUS',\n",
       " 'COU_ALL',\n",
       " 'COU_BLACK',\n",
       " 'COU_HIS',\n",
       " 'COU_WHITE',\n",
       " 'COU_AI',\n",
       " 'COU_API',\n",
       " 'COU_ECON',\n",
       " 'COU_ELL',\n",
       " 'COU_ATRISK',\n",
       " 'PER_BLACK',\n",
       " 'PER_HIS',\n",
       " 'PER_WHITE',\n",
       " 'PER_AI',\n",
       " 'PER_API',\n",
       " 'PER_ECON',\n",
       " 'PER_ELL',\n",
       " 'PER_ATRISK',\n",
       " 'BILINGUAL_ENROLL',\n",
       " 'DISTNAME',\n",
       " 'CAMPNAME',\n",
       " 'CNTYNAME',\n",
       " 'year',\n",
       " 'COU_ASIAN',\n",
       " 'COU_PI',\n",
       " 'CPETRSKC',\n",
       " 'PER_ASIAN',\n",
       " 'PER_PI',\n",
       " 'CPETRSKP',\n",
       " 'COU_TWO',\n",
       " 'PER_TWO',\n",
       " '\\ufeffX',\n",
       " 'Y',\n",
       " 'FID',\n",
       " 'FID_1',\n",
       " 'FID_12',\n",
       " 'FID_123',\n",
       " 'OBJECTID_1',\n",
       " 'FID_1234',\n",
       " 'OBJECTID',\n",
       " 'DISTRICT',\n",
       " 'DISTNAME2',\n",
       " 'CAMPNAME2',\n",
       " 'STREET_MAI',\n",
       " 'CITY_MAIL',\n",
       " 'ZIP_MAIL',\n",
       " 'STREET',\n",
       " 'CITY',\n",
       " 'ZIP',\n",
       " 'COUNTY',\n",
       " 'CNTYNAME2',\n",
       " 'REGION',\n",
       " 'GRADERANGE',\n",
       " 'GRADEGRP',\n",
       " 'VERIFY',\n",
       " 'INSTR_TYPE',\n",
       " 'PHONE',\n",
       " 'EMAIL',\n",
       " 'WEB',\n",
       " 'RSDNTLFAC',\n",
       " 'MAGNET',\n",
       " 'CHART_TYPE',\n",
       " 'FAX',\n",
       " 'NAME',\n",
       " 'FENAME')"
      ]
     },
     "execution_count": 20,
     "metadata": {},
     "output_type": "execute_result"
    }
   ],
   "source": [
    "located.column_names\n",
    "## Not necessary - only did to check specific column name for next steps"
   ]
  },
  {
   "cell_type": "code",
   "execution_count": 21,
   "metadata": {},
   "outputs": [
    {
     "data": {
      "text/plain": [
       "('CAMPUS',\n",
       " 'COU_ALL',\n",
       " 'COU_BLACK',\n",
       " 'COU_HIS',\n",
       " 'COU_WHITE',\n",
       " 'COU_AI',\n",
       " 'COU_API',\n",
       " 'COU_ECON',\n",
       " 'COU_ELL',\n",
       " 'COU_ATRISK',\n",
       " 'PER_BLACK',\n",
       " 'PER_HIS',\n",
       " 'PER_WHITE',\n",
       " 'PER_AI',\n",
       " 'PER_API',\n",
       " 'PER_ECON',\n",
       " 'PER_ELL',\n",
       " 'PER_ATRISK',\n",
       " 'BILINGUAL_ENROLL',\n",
       " 'DISTNAME',\n",
       " 'CAMPNAME',\n",
       " 'CNTYNAME',\n",
       " 'year',\n",
       " 'COU_ASIAN',\n",
       " 'COU_PI',\n",
       " 'CPETRSKC',\n",
       " 'PER_ASIAN',\n",
       " 'PER_PI',\n",
       " 'CPETRSKP',\n",
       " 'COU_TWO',\n",
       " 'PER_TWO',\n",
       " 'longitude',\n",
       " 'latitude',\n",
       " 'FID',\n",
       " 'FID_1',\n",
       " 'FID_12',\n",
       " 'FID_123',\n",
       " 'OBJECTID_1',\n",
       " 'FID_1234',\n",
       " 'OBJECTID',\n",
       " 'DISTRICT',\n",
       " 'DISTNAME2',\n",
       " 'CAMPNAME2',\n",
       " 'STREET_MAI',\n",
       " 'CITY_MAIL',\n",
       " 'ZIP_MAIL',\n",
       " 'STREET',\n",
       " 'CITY',\n",
       " 'ZIP',\n",
       " 'COUNTY',\n",
       " 'CNTYNAME2',\n",
       " 'REGION',\n",
       " 'GRADERANGE',\n",
       " 'GRADEGRP',\n",
       " 'VERIFY',\n",
       " 'INSTR_TYPE',\n",
       " 'PHONE',\n",
       " 'EMAIL',\n",
       " 'WEB',\n",
       " 'RSDNTLFAC',\n",
       " 'MAGNET',\n",
       " 'CHART_TYPE',\n",
       " 'FAX',\n",
       " 'NAME',\n",
       " 'FENAME')"
      ]
     },
     "execution_count": 21,
     "metadata": {},
     "output_type": "execute_result"
    }
   ],
   "source": [
    "#rename the funky longitude column so life can be easier\n",
    "latlong = {'\\ufeffX': 'longitude',\n",
    "          'Y': 'latitude'}\n",
    "located = located.rename(latlong)\n",
    "#check if it worked\n",
    "located.column_names"
   ]
  },
  {
   "cell_type": "markdown",
   "metadata": {},
   "source": [
    "## Filter to columns"
   ]
  },
  {
   "cell_type": "code",
   "execution_count": 22,
   "metadata": {
    "collapsed": true
   },
   "outputs": [],
   "source": [
    "location_columns = ['DISTNAME', 'CAMPNAME', 'CNTYNAME', 'longitude', 'latitude','STREET', 'CITY', 'ZIP','CAMPUS', 'year',\n",
    "                    'COU_ALL','COU_BLACK','COU_HIS', 'COU_WHITE', 'COU_AI', 'COU_API', 'COU_ASIAN', 'COU_PI', \n",
    "                    'COU_TWO', 'COU_ECON', 'COU_ELL','PER_BLACK','PER_HIS','PER_WHITE',\n",
    "                    'PER_AI', 'PER_API', 'PER_ASIAN', 'PER_PI', 'PER_TWO', 'PER_ECON','PER_ELL']\n",
    "### Pay attention to the X column - it is a little funky. Renaming it above should solve the problem, but check it if you get an\n",
    "### error. "
   ]
  },
  {
   "cell_type": "code",
   "execution_count": 23,
   "metadata": {},
   "outputs": [
    {
     "name": "stdout",
     "output_type": "stream",
     "text": [
      "| column    | data_type |\n",
      "| --------- | --------- |\n",
      "| DISTNAME  | Text      |\n",
      "| CAMPNAME  | Text      |\n",
      "| CNTYNAME  | Text      |\n",
      "| longitude | Number    |\n",
      "| latitude  | Number    |\n",
      "| STREET    | Text      |\n",
      "| CITY      | Text      |\n",
      "| ZIP       | Number    |\n",
      "| CAMPUS    | Number    |\n",
      "| year      | Text      |\n",
      "| COU_ALL   | Number    |\n",
      "| COU_BLACK | Number    |\n",
      "| COU_HIS   | Number    |\n",
      "| COU_WHITE | Number    |\n",
      "| COU_AI    | Number    |\n",
      "| COU_API   | Number    |\n",
      "| COU_ASIAN | Number    |\n",
      "| COU_PI    | Number    |\n",
      "| COU_TWO   | Number    |\n",
      "| COU_ECON  | Number    |\n",
      "| COU_ELL   | Number    |\n",
      "| PER_BLACK | Number    |\n",
      "| PER_HIS   | Number    |\n",
      "| PER_WHITE | Number    |\n",
      "| PER_AI    | Number    |\n",
      "| PER_API   | Number    |\n",
      "| PER_ASIAN | Number    |\n",
      "| PER_PI    | Number    |\n",
      "| PER_TWO   | Number    |\n",
      "| PER_ECON  | Number    |\n",
      "| PER_ELL   | Number    |\n",
      "\n"
     ]
    }
   ],
   "source": [
    "## Apply the columns\n",
    "locationfilter = located.select(location_columns)\n",
    "locationfilter.to_csv(path='locationfilter.csv')\n",
    "print(locationfilter)\n",
    "\n",
    "## Make sure it worked and all the column types are correct. \n"
   ]
  },
  {
   "cell_type": "markdown",
   "metadata": {},
   "source": [
    "# Time to rearrange the information with some pipes"
   ]
  },
  {
   "cell_type": "code",
   "execution_count": 24,
   "metadata": {},
   "outputs": [
    {
     "name": "stdout",
     "output_type": "stream",
     "text": [
      "| column      | data_type |\n",
      "| ----------- | --------- |\n",
      "| DISTNAME    | Text      |\n",
      "| CAMPNAME    | Text      |\n",
      "| CNTYNAME    | Text      |\n",
      "| longitude   | Number    |\n",
      "| latitude    | Number    |\n",
      "| STREET      | Text      |\n",
      "| CITY        | Text      |\n",
      "| ZIP         | Number    |\n",
      "| CAMPUS      | Number    |\n",
      "| year        | Text      |\n",
      "| COU_ALL     | Number    |\n",
      "| COU_BLACK   | Number    |\n",
      "| COU_HIS     | Number    |\n",
      "| COU_WHITE   | Number    |\n",
      "| COU_AI      | Number    |\n",
      "| COU_API     | Number    |\n",
      "| COU_ASIAN   | Number    |\n",
      "| COU_PI      | Number    |\n",
      "| COU_TWO     | Number    |\n",
      "| COU_ECON    | Number    |\n",
      "| COU_ELL     | Number    |\n",
      "| PER_BLACK   | Number    |\n",
      "| PER_HIS     | Number    |\n",
      "| PER_WHITE   | Number    |\n",
      "| PER_AI      | Number    |\n",
      "| PER_API     | Number    |\n",
      "| PER_ASIAN   | Number    |\n",
      "| PER_PI      | Number    |\n",
      "| PER_TWO     | Number    |\n",
      "| PER_ECON    | Number    |\n",
      "| PER_ELL     | Number    |\n",
      "| BLACK_combo | Text      |\n",
      "| HIS_combo   | Text      |\n",
      "| WHITE_combo | Text      |\n",
      "| AI_combo    | Text      |\n",
      "| API_combo   | Text      |\n",
      "| ASIAN_combo | Text      |\n",
      "| PI_combo    | Text      |\n",
      "| TWO_combo   | Text      |\n",
      "| ECON_combo  | Text      |\n",
      "| ELL_combo   | Text      |\n",
      "\n"
     ]
    }
   ],
   "source": [
    "# Arrange the data so it will give us one cell with the race, count, and percentage. \n",
    "combos = locationfilter.compute([\n",
    "    ('BLACK_combo', agate.Formula(agate.Text(), lambda row: 'BLACK'\\\n",
    "                              + \"|\"\n",
    "                              + str(row['COU_BLACK'])\\\n",
    "                              + \"|\"\n",
    "                              + str(row['PER_BLACK'])\\\n",
    "                             )),\n",
    "    ('HIS_combo', agate.Formula(agate.Text(), lambda row: 'HISPANIC'\\\n",
    "                              + \"|\"\n",
    "                              + str(row['COU_HIS'])\\\n",
    "                              + \"|\"\n",
    "                              + str(row['PER_HIS'])\\\n",
    "                             )),\n",
    "    ('WHITE_combo', agate.Formula(agate.Text(), lambda row: 'WHITE'\\\n",
    "                              + \"|\"\n",
    "                              + str(row['COU_WHITE'])\\\n",
    "                              + \"|\"\n",
    "                              + str(row['PER_WHITE'])\\\n",
    "                             )),\n",
    "    ('AI_combo', agate.Formula(agate.Text(), lambda row: 'INDIAN'\\\n",
    "                              + \"|\"\n",
    "                              + str(row['COU_AI'])\\\n",
    "                              + \"|\"\n",
    "                              + str(row['PER_AI'])\\\n",
    "                             )),\n",
    "    ('API_combo', agate.Formula(agate.Text(), lambda row: 'API'\\\n",
    "                              + \"|\"\n",
    "                              + str(row['COU_API'])\\\n",
    "                              + \"|\"\n",
    "                              + str(row['PER_API'])\\\n",
    "                             )),\n",
    "    ('ASIAN_combo', agate.Formula(agate.Text(), lambda row: 'ASIAN'\\\n",
    "                              + \"|\"\n",
    "                              + str(row['COU_ASIAN'])\\\n",
    "                              + \"|\"\n",
    "                              + str(row['PER_ASIAN'])\\\n",
    "                             )),\n",
    "   ('PI_combo', agate.Formula(agate.Text(), lambda row: 'PI'\\\n",
    "                              + \"|\"\n",
    "                              + str(row['COU_PI'])\\\n",
    "                              + \"|\"\n",
    "                              + str(row['PER_PI'])\\\n",
    "                             )),\n",
    "    ('TWO_combo', agate.Formula(agate.Text(), lambda row: 'TWO'\\\n",
    "                              + \"|\"\n",
    "                              + str(row['COU_TWO'])\\\n",
    "                              + \"|\"\n",
    "                              + str(row['PER_TWO'])\\\n",
    "                             )),\n",
    "    ('ECON_combo', agate.Formula(agate.Text(), lambda row: 'ECON'\\\n",
    "                              + \"|\"\n",
    "                              + str(row['COU_ECON'])\\\n",
    "                              + \"|\"\n",
    "                              + str(row['PER_ECON'])\\\n",
    "                             )),\n",
    "    ('ELL_combo', agate.Formula(agate.Text(), lambda row: 'ELL'\\\n",
    "                              + \"|\"\n",
    "                              + str(row['COU_ELL'])\\\n",
    "                              + \"|\"\n",
    "                              + str(row['PER_ELL'])\\\n",
    "                             ))\n",
    "])\n",
    "\n",
    "# make sure it worked\n",
    "\n",
    "print(combos)"
   ]
  },
  {
   "cell_type": "code",
   "execution_count": 25,
   "metadata": {},
   "outputs": [
    {
     "name": "stdout",
     "output_type": "stream",
     "text": [
      "| column      | data_type |\n",
      "| ----------- | --------- |\n",
      "| DISTNAME    | Text      |\n",
      "| CAMPNAME    | Text      |\n",
      "| CNTYNAME    | Text      |\n",
      "| longitude   | Number    |\n",
      "| latitude    | Number    |\n",
      "| STREET      | Text      |\n",
      "| CITY        | Text      |\n",
      "| ZIP         | Number    |\n",
      "| CAMPUS      | Number    |\n",
      "| year        | Text      |\n",
      "| COU_ALL     | Number    |\n",
      "| BLACK_combo | Text      |\n",
      "| HIS_combo   | Text      |\n",
      "| WHITE_combo | Text      |\n",
      "| AI_combo    | Text      |\n",
      "| API_combo   | Text      |\n",
      "| ASIAN_combo | Text      |\n",
      "| PI_combo    | Text      |\n",
      "| TWO_combo   | Text      |\n",
      "| ECON_combo  | Text      |\n",
      "| ELL_combo   | Text      |\n",
      "\n"
     ]
    }
   ],
   "source": [
    "# clarify which columns we need for schools and the combos we just made\n",
    "school_columns = (\n",
    "    'DISTNAME',\n",
    "    'CAMPNAME',\n",
    "    'CNTYNAME',\n",
    "    'longitude',\n",
    "    'latitude',\n",
    "    'STREET',\n",
    "    'CITY',\n",
    "    'ZIP',\n",
    "    'CAMPUS',\n",
    "    'year',\n",
    "    'COU_ALL',\n",
    ")\n",
    "\n",
    "combo_columns = ('BLACK_combo', 'HIS_combo', 'WHITE_combo', 'AI_combo', 'API_combo', \n",
    "                 'ASIAN_combo', 'PI_combo', 'TWO_combo', 'ECON_combo', 'ELL_combo')\n",
    "\n",
    "# then apply it to the data\n",
    "\n",
    "campuscombocol = school_columns + combo_columns\n",
    "campuscombo = combos.select(campuscombocol)\n",
    "\n",
    "print(campuscombo)"
   ]
  },
  {
   "cell_type": "code",
   "execution_count": 26,
   "metadata": {},
   "outputs": [
    {
     "name": "stdout",
     "output_type": "stream",
     "text": [
      "| column    | data_type |\n",
      "| --------- | --------- |\n",
      "| DISTNAME  | Text      |\n",
      "| CAMPNAME  | Text      |\n",
      "| CNTYNAME  | Text      |\n",
      "| longitude | Number    |\n",
      "| latitude  | Number    |\n",
      "| STREET    | Text      |\n",
      "| CITY      | Text      |\n",
      "| ZIP       | Number    |\n",
      "| CAMPUS    | Number    |\n",
      "| year      | Text      |\n",
      "| COU_ALL   | Number    |\n",
      "| property  | Text      |\n",
      "| value     | Text      |\n",
      "\n",
      "| CAMPNAME    | property    | value             |\n",
      "| ----------- | ----------- | ----------------- |\n",
      "| BASTROP H S | BLACK_combo | BLACK|218|9.6     |\n",
      "| BASTROP H S | HIS_combo   | HISPANIC|788|34.7 |\n",
      "| BASTROP H S | WHITE_combo | WHITE|1237|54.5   |\n",
      "| BASTROP H S | AI_combo    | INDIAN|14|0.6     |\n",
      "| BASTROP H S | API_combo   | API|14|0.6        |\n",
      "| BASTROP H S | ASIAN_combo | ASIAN|None|None   |\n",
      "| BASTROP H S | PI_combo    | PI|None|None      |\n",
      "| BASTROP H S | TWO_combo   | TWO|None|None     |\n",
      "| BASTROP H S | ECON_combo  | ECON|989|43.5     |\n",
      "| BASTROP H S | ELL_combo   | ELL|96|4.2        |\n",
      "| GATEWAY SCH | BLACK_combo | BLACK|17|31.5     |\n",
      "| GATEWAY SCH | HIS_combo   | HISPANIC|23|42.6  |\n",
      "| GATEWAY SCH | WHITE_combo | WHITE|14|25.9     |\n",
      "| GATEWAY SCH | AI_combo    | INDIAN|0|0        |\n",
      "| GATEWAY SCH | API_combo   | API|0|0           |\n",
      "| GATEWAY SCH | ASIAN_combo | ASIAN|None|None   |\n",
      "| GATEWAY SCH | PI_combo    | PI|None|None      |\n",
      "| GATEWAY SCH | TWO_combo   | TWO|None|None     |\n",
      "| GATEWAY SCH | ECON_combo  | ECON|40|74.1      |\n",
      "| GATEWAY SCH | ELL_combo   | ELL|4|7.4         |\n",
      "| ...         | ...         | ...               |\n"
     ]
    }
   ],
   "source": [
    "data_normalized = campuscombo.normalize(\n",
    "        list(school_columns),\n",
    "        list(combo_columns)\n",
    "    )\n",
    "print(data_normalized) # check columns\n",
    "data_normalized.select(['CAMPNAME', 'property', 'value']).print_table() # peek at important cols"
   ]
  },
  {
   "cell_type": "markdown",
   "metadata": {},
   "source": [
    "# Normalize the data to break the combos apart"
   ]
  },
  {
   "cell_type": "code",
   "execution_count": 27,
   "metadata": {},
   "outputs": [
    {
     "name": "stdout",
     "output_type": "stream",
     "text": [
      "| column    | data_type |\n",
      "| --------- | --------- |\n",
      "| DISTNAME  | Text      |\n",
      "| CAMPNAME  | Text      |\n",
      "| CNTYNAME  | Text      |\n",
      "| longitude | Number    |\n",
      "| latitude  | Number    |\n",
      "| STREET    | Text      |\n",
      "| CITY      | Text      |\n",
      "| ZIP       | Number    |\n",
      "| CAMPUS    | Number    |\n",
      "| year      | Text      |\n",
      "| COU_ALL   | Number    |\n",
      "| property  | Text      |\n",
      "| value     | Text      |\n",
      "| CATEGORY  | Text      |\n",
      "| COUNT     | Text      |\n",
      "| PERCENT   | Text      |\n",
      "\n",
      "| CAMPNAME    | value             | CATEGORY | COUNT | PERCENT |\n",
      "| ----------- | ----------------- | -------- | ----- | ------- |\n",
      "| BASTROP H S | BLACK|218|9.6     | BLACK    | 218   | 9.6     |\n",
      "| BASTROP H S | HISPANIC|788|34.7 | HISPANIC | 788   | 34.7    |\n",
      "| BASTROP H S | WHITE|1237|54.5   | WHITE    | 1237  | 54.5    |\n",
      "| BASTROP H S | INDIAN|14|0.6     | INDIAN   | 14    | 0.6     |\n",
      "| BASTROP H S | API|14|0.6        | API      | 14    | 0.6     |\n",
      "| BASTROP H S | ASIAN|None|None   | ASIAN    |       |         |\n",
      "| BASTROP H S | PI|None|None      | PI       |       |         |\n",
      "| BASTROP H S | TWO|None|None     | TWO      |       |         |\n",
      "| BASTROP H S | ECON|989|43.5     | ECON     | 989   | 43.5    |\n",
      "| BASTROP H S | ELL|96|4.2        | ELL      | 96    | 4.2     |\n",
      "| GATEWAY SCH | BLACK|17|31.5     | BLACK    | 17    | 31.5    |\n",
      "| GATEWAY SCH | HISPANIC|23|42.6  | HISPANIC | 23    | 42.6    |\n",
      "| GATEWAY SCH | WHITE|14|25.9     | WHITE    | 14    | 25.9    |\n",
      "| GATEWAY SCH | INDIAN|0|0        | INDIAN   | 0     | 0       |\n",
      "| GATEWAY SCH | API|0|0           | API      | 0     | 0       |\n",
      "| GATEWAY SCH | ASIAN|None|None   | ASIAN    |       |         |\n",
      "| GATEWAY SCH | PI|None|None      | PI       |       |         |\n",
      "| GATEWAY SCH | TWO|None|None     | TWO      |       |         |\n",
      "| GATEWAY SCH | ECON|40|74.1      | ECON     | 40    | 74.1    |\n",
      "| GATEWAY SCH | ELL|4|7.4         | ELL      | 4     | 7.4     |\n",
      "| ...         | ...               | ...      | ...   | ...     |\n"
     ]
    }
   ],
   "source": [
    "# explode where the pipes are\n",
    "exploded = data_normalized.compute([\n",
    "        ('CATEGORY', agate.Formula(agate.Text(), lambda row: row['value'].split(\"|\")[0])),\n",
    "        ('COUNT', agate.Formula(agate.Text(), lambda row: row['value'].split(\"|\")[1])),\n",
    "        ('PERCENT', agate.Formula(agate.Text(), lambda row: row['value'].split(\"|\")[2])),\n",
    "    ])\n",
    "print(exploded)\n",
    "exploded.select(['CAMPNAME', 'value', 'CATEGORY', 'COUNT', 'PERCENT']).print_table() # just to peek at it"
   ]
  },
  {
   "cell_type": "markdown",
   "metadata": {},
   "source": [
    "## Normalize \n",
    "We might not need this. TBD. (Update: I'm 90 percent sure we didn't need this, but I left it note-d out just in case.) "
   ]
  },
  {
   "cell_type": "code",
   "execution_count": 28,
   "metadata": {},
   "outputs": [
    {
     "name": "stdout",
     "output_type": "stream",
     "text": [
      "| column    | data_type |\n",
      "| --------- | --------- |\n",
      "| DISTNAME  | Text      |\n",
      "| CAMPNAME  | Text      |\n",
      "| CNTYNAME  | Text      |\n",
      "| longitude | Number    |\n",
      "| latitude  | Number    |\n",
      "| STREET    | Text      |\n",
      "| CITY      | Text      |\n",
      "| ZIP       | Number    |\n",
      "| CAMPUS    | Number    |\n",
      "| year      | Text      |\n",
      "| COU_ALL   | Number    |\n",
      "| CATEGORY  | Text      |\n",
      "| COUNT     | Text      |\n",
      "| PERCENT   | Text      |\n",
      "\n",
      "| DISTNAME    | CAMPNAME    | CNTYNAME | longitude | latitude | STREET           | ... |\n",
      "| ----------- | ----------- | -------- | --------- | -------- | ---------------- | --- |\n",
      "| BASTROP ISD | BASTROP H S | BASTROP  |  -97.312… |  30.118… | 1614 CHAMBERS ST | ... |\n",
      "| BASTROP ISD | BASTROP H S | BASTROP  |  -97.312… |  30.118… | 1614 CHAMBERS ST | ... |\n",
      "| BASTROP ISD | BASTROP H S | BASTROP  |  -97.312… |  30.118… | 1614 CHAMBERS ST | ... |\n",
      "| BASTROP ISD | BASTROP H S | BASTROP  |  -97.312… |  30.118… | 1614 CHAMBERS ST | ... |\n",
      "| BASTROP ISD | BASTROP H S | BASTROP  |  -97.312… |  30.118… | 1614 CHAMBERS ST | ... |\n",
      "| BASTROP ISD | BASTROP H S | BASTROP  |  -97.312… |  30.118… | 1614 CHAMBERS ST | ... |\n",
      "| BASTROP ISD | BASTROP H S | BASTROP  |  -97.312… |  30.118… | 1614 CHAMBERS ST | ... |\n",
      "| BASTROP ISD | BASTROP H S | BASTROP  |  -97.312… |  30.118… | 1614 CHAMBERS ST | ... |\n",
      "| BASTROP ISD | BASTROP H S | BASTROP  |  -97.312… |  30.118… | 1614 CHAMBERS ST | ... |\n",
      "| BASTROP ISD | BASTROP H S | BASTROP  |  -97.312… |  30.118… | 1614 CHAMBERS ST | ... |\n",
      "| BASTROP ISD | GATEWAY SCH | BASTROP  |           |          |                  | ... |\n",
      "| BASTROP ISD | GATEWAY SCH | BASTROP  |           |          |                  | ... |\n",
      "| BASTROP ISD | GATEWAY SCH | BASTROP  |           |          |                  | ... |\n",
      "| BASTROP ISD | GATEWAY SCH | BASTROP  |           |          |                  | ... |\n",
      "| BASTROP ISD | GATEWAY SCH | BASTROP  |           |          |                  | ... |\n",
      "| BASTROP ISD | GATEWAY SCH | BASTROP  |           |          |                  | ... |\n",
      "| BASTROP ISD | GATEWAY SCH | BASTROP  |           |          |                  | ... |\n",
      "| BASTROP ISD | GATEWAY SCH | BASTROP  |           |          |                  | ... |\n",
      "| BASTROP ISD | GATEWAY SCH | BASTROP  |           |          |                  | ... |\n",
      "| BASTROP ISD | GATEWAY SCH | BASTROP  |           |          |                  | ... |\n",
      "| ...         | ...         | ...      |       ... |      ... | ...              | ... |\n"
     ]
    }
   ],
   "source": [
    "\n",
    "# reselect just the good columns\n",
    "#stats_columns = (\n",
    "    #'CATEGORY',\n",
    "    #'COUNT',\n",
    "    #'PERCENT'\n",
    "#)\n",
    "\n",
    "#export_columns = school_columns + stats_columns\n",
    "\n",
    "#export = exploded.select(export_columns)\n",
    "#print(export) # show column names\n",
    "#export.print_table() # peek at table\n",
    "#export.to_csv('school_export.csv')"
   ]
  }
 ],
 "metadata": {
  "kernelspec": {
   "display_name": "Python 3",
   "language": "python",
   "name": "python3"
  },
  "language_info": {
   "codemirror_mode": {
    "name": "ipython",
    "version": 3
   },
   "file_extension": ".py",
   "mimetype": "text/x-python",
   "name": "python",
   "nbconvert_exporter": "python",
   "pygments_lexer": "ipython3",
   "version": "3.6.1"
  }
 },
 "nbformat": 4,
 "nbformat_minor": 2
}
