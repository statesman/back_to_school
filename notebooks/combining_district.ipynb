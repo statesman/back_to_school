{
 "cells": [
  {
   "cell_type": "code",
   "execution_count": 1,
   "metadata": {},
   "outputs": [
    {
     "name": "stdout",
     "output_type": "stream",
     "text": [
      "0607 student processing.ipynb\tfilter1011.csv\n",
      "0607district.ipynb\t\tfilter10111.csv\n",
      "0708 student processing.ipynb\tfilter1112.csv\n",
      "0708district.ipynb\t\tfilter11121.csv\n",
      "0809 student processing.ipynb\tfilter1213.csv\n",
      "0809district.ipynb\t\tfilter12131.csv\n",
      "0910 student processing.ipynb\tfilter1314.csv\n",
      "0910district.ipynb\t\tfilter13141.csv\n",
      "1011 student processing.ipynb\tfilter1415.csv\n",
      "1011district.ipynb\t\tfilter14151.csv\n",
      "1112 student processing.ipynb\tfilter1516.csv\n",
      "1112district.ipynb\t\tfilter15161.csv\n",
      "1213 student processing.ipynb\tstud0607new\n",
      "1213district.ipynb\t\tstud0607new.csv\n",
      "1314 student processing.ipynb\tstud0708new.csv\n",
      "1314district.ipynb\t\tstud0809new.csv\n",
      "1415 student processing.ipynb\tstud1011new.csv\n",
      "1415district.ipynb\t\tstud1112new.csv\n",
      "1516 student processing.ipynb\tstud1213new.csv\n",
      "1516district.ipynb\t\tstud1314new.csv\n",
      "Documents\t\t\tstud1415new.csv\n",
      "Untitled.ipynb\t\t\tstud1516new.csv\n",
      "Untitled1.ipynb\t\t\tstud910new.csv\n",
      "combine0607.csv\t\t\tstudent0607new.csv\n",
      "combine06071.csv\t\tstudent0708new.csv\n",
      "combine0708.csv\t\t\tstudent0809new.csv\n",
      "combine07081.csv\t\tstudent1011new.csv\n",
      "combine0809.csv\t\t\tstudent1112new.csv\n",
      "combine08091.csv\t\tstudent1213new.csv\n",
      "combine09101.csv\t\tstudent1314new.csv\n",
      "combine1011.csv\t\t\tstudent1415new.csv\n",
      "combine10111.csv\t\tstudent1516new.csv\n",
      "combine1112.csv\t\t\tstudent910new.csv\n",
      "combine11121.csv\t\tyear0607.csv\n",
      "combine1213.csv\t\t\tyear0607final.csv\n",
      "combine12131.csv\t\tyear0708.csv\n",
      "combine1314.csv\t\t\tyear0708final.csv\n",
      "combine13141.csv\t\tyear0809.csv\n",
      "combine1415.csv\t\t\tyear0809final.csv\n",
      "combine14151.csv\t\tyear0910.csv\n",
      "combine1516.csv\t\t\tyear0910final.csv\n",
      "combine15161.csv\t\tyear1011.csv\n",
      "combine910.csv\t\t\tyear1011final.csv\n",
      "district0607.csv\t\tyear1112.csv\n",
      "district0607.ipynb\t\tyear1112final.csv\n",
      "filter0607.csv\t\t\tyear1213.csv\n",
      "filter06071.csv\t\t\tyear1213final.csv\n",
      "filter0708.csv\t\t\tyear1314.csv\n",
      "filter07081.csv\t\t\tyear1314final.csv\n",
      "filter0809.csv\t\t\tyear1415.csv\n",
      "filter08091.csv\t\t\tyear1415final.csv\n",
      "filter0910.csv\t\t\tyear1516.csv\n",
      "filter09101.csv\t\t\tyear1516final.csv\n"
     ]
    }
   ],
   "source": [
    "ls\n"
   ]
  },
  {
   "cell_type": "code",
   "execution_count": 4,
   "metadata": {
    "collapsed": true
   },
   "outputs": [],
   "source": [
    "csvstack year0607final.csv year0708final.csv year0809final.csv year0910final.csv year1011final.csv year1112final.csv year1213final.csv year1314final.csv year1415final.csv year1516final.csv> combine.csv"
   ]
  },
  {
   "cell_type": "code",
   "execution_count": null,
   "metadata": {
    "collapsed": true
   },
   "outputs": [],
   "source": []
  }
 ],
 "metadata": {
  "kernelspec": {
   "display_name": "Bash",
   "language": "bash",
   "name": "bash"
  },
  "language_info": {
   "codemirror_mode": "shell",
   "file_extension": ".sh",
   "mimetype": "text/x-sh",
   "name": "bash"
  }
 },
 "nbformat": 4,
 "nbformat_minor": 2
}
