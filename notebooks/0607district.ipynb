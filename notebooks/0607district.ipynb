{
 "cells": [
  {
   "cell_type": "code",
   "execution_count": 1,
   "metadata": {
    "collapsed": true
   },
   "outputs": [],
   "source": [
    "import agate"
   ]
  },
  {
   "cell_type": "code",
   "execution_count": 2,
   "metadata": {
    "collapsed": false
   },
   "outputs": [
    {
     "ename": "FileNotFoundError",
     "evalue": "[Errno 2] No such file or directory: '../raw_data/0607district.csv'",
     "output_type": "error",
     "traceback": [
      "\u001b[0;31m---------------------------------------------------------------------------\u001b[0m",
      "\u001b[0;31mFileNotFoundError\u001b[0m                         Traceback (most recent call last)",
      "\u001b[0;32m<ipython-input-2-4cf1227e81e6>\u001b[0m in \u001b[0;36m<module>\u001b[0;34m()\u001b[0m\n\u001b[1;32m      3\u001b[0m }\n\u001b[1;32m      4\u001b[0m \u001b[0;34m\u001b[0m\u001b[0m\n\u001b[0;32m----> 5\u001b[0;31m \u001b[0mdistrict0607\u001b[0m \u001b[0;34m=\u001b[0m \u001b[0magate\u001b[0m\u001b[0;34m.\u001b[0m\u001b[0mTable\u001b[0m\u001b[0;34m.\u001b[0m\u001b[0mfrom_csv\u001b[0m\u001b[0;34m(\u001b[0m\u001b[0;34m'../raw_data/0607district.csv'\u001b[0m\u001b[0;34m,\u001b[0m \u001b[0mcolumn_types\u001b[0m\u001b[0;34m=\u001b[0m\u001b[0mspecified_types\u001b[0m\u001b[0;34m)\u001b[0m\u001b[0;34m\u001b[0m\u001b[0m\n\u001b[0m\u001b[1;32m      6\u001b[0m \u001b[0;34m\u001b[0m\u001b[0m\n\u001b[1;32m      7\u001b[0m \u001b[0;31m#making district text due to leading zeroes, then bringing into the program\u001b[0m\u001b[0;34m\u001b[0m\u001b[0;34m\u001b[0m\u001b[0m\n",
      "\u001b[0;32m/Users/christian/anaconda/envs/data/lib/python3.5/site-packages/agate/table/from_csv.py\u001b[0m in \u001b[0;36mfrom_csv\u001b[0;34m(cls, path, column_names, column_types, row_names, skip_lines, header, sniff_limit, encoding, **kwargs)\u001b[0m\n\u001b[1;32m     52\u001b[0m             \u001b[0mf\u001b[0m \u001b[0;34m=\u001b[0m \u001b[0mopen\u001b[0m\u001b[0;34m(\u001b[0m\u001b[0mpath\u001b[0m\u001b[0;34m,\u001b[0m \u001b[0;34m'Urb'\u001b[0m\u001b[0;34m)\u001b[0m\u001b[0;34m\u001b[0m\u001b[0m\n\u001b[1;32m     53\u001b[0m         \u001b[0;32melse\u001b[0m\u001b[0;34m:\u001b[0m\u001b[0;34m\u001b[0m\u001b[0m\n\u001b[0;32m---> 54\u001b[0;31m             \u001b[0mf\u001b[0m \u001b[0;34m=\u001b[0m \u001b[0mio\u001b[0m\u001b[0;34m.\u001b[0m\u001b[0mopen\u001b[0m\u001b[0;34m(\u001b[0m\u001b[0mpath\u001b[0m\u001b[0;34m,\u001b[0m \u001b[0mencoding\u001b[0m\u001b[0;34m=\u001b[0m\u001b[0mencoding\u001b[0m\u001b[0;34m)\u001b[0m\u001b[0;34m\u001b[0m\u001b[0m\n\u001b[0m\u001b[1;32m     55\u001b[0m \u001b[0;34m\u001b[0m\u001b[0m\n\u001b[1;32m     56\u001b[0m         \u001b[0mclose\u001b[0m \u001b[0;34m=\u001b[0m \u001b[0;32mTrue\u001b[0m\u001b[0;34m\u001b[0m\u001b[0m\n",
      "\u001b[0;31mFileNotFoundError\u001b[0m: [Errno 2] No such file or directory: '../raw_data/0607district.csv'"
     ]
    }
   ],
   "source": [
    "specified_types = {\n",
    "    'DISTRICT': agate.Text(),\n",
    "}\n",
    "\n",
    "district0607 = agate.Table.from_csv('../raw_data/0607district.csv', column_types=specified_types)\n",
    "\n",
    "#making district text due to leading zeroes, then bringing into the program\n"
   ]
  },
  {
   "cell_type": "code",
   "execution_count": null,
   "metadata": {
    "collapsed": true
   },
   "outputs": [],
   "source": [
    "include_columns = ['DISTRICT', 'DPETALLC','DPETBLAC', 'DPETHISC', 'DPETWHIC', 'DPETINDC', 'DPETPACC',\n",
    "        'DPETECOC', 'DPETLEPC','DPETRSKC', 'DPETBLAP','DPETHISP','DPETWHIP', 'DPETINDP', 'DPETPACP', 'DPETECOP','DPETLEPP',\n",
    "'DPETRSKP','DPETBILC']\n",
    "\n",
    " \n",
    "district0607new = district0607.select(include_columns)\n",
    "\n",
    "#including the only needed columns"
   ]
  },
  {
   "cell_type": "code",
   "execution_count": null,
   "metadata": {
    "collapsed": true
   },
   "outputs": [],
   "source": [
    "disrename0607 = district0607new.rename(column_names = {'DISTRICT': 'DISTRICT',\n",
    "                                       'DPETALLC': 'COUNT_ALL',\n",
    "                                       'DPETBLAC': 'COUNT_BLACK',\n",
    "                                       'DPETHISC': 'COUNT_HIS',\n",
    "                                       'DPETWHIC': 'COUNT_WHITE',\n",
    "                                       'DPETINDC': 'COUNT_AI',\n",
    "                                       'DPETPACC': 'COUNT_API',\n",
    "                                       'DPETECOC': 'COUNT_ECON',\n",
    "                                       'DPETLEPC': 'COUNT_ELL',\n",
    "                                       'DPETRSKC': 'COUNT_ATRISK',\n",
    "                                       'DPETBLAP': 'PER_BLACK',\n",
    "                                       'DPETHISP': 'PER_HIS',\n",
    "                                       'DPETWHIP': 'PER_WHITE',\n",
    "                                       'DPETINDP': 'PER_AI',\n",
    "                                       'DPETPACP': 'PER_API',\n",
    "                                       'DPETECOP': 'PER_ECON',\n",
    "                                       'DPETLEPP': 'PER_ELL',\n",
    "                                       'DPETRSKP': 'PER_ATRISK',\n",
    "                                       'DPETBILC': 'BILINGUAL_ENROLL'})\n",
    "#rename columns"
   ]
  },
  {
   "cell_type": "code",
   "execution_count": null,
   "metadata": {
    "collapsed": true
   },
   "outputs": [],
   "source": [
    "ref0607 = agate.Table.from_csv('../raw_data/ref0607.csv', column_types=specified_types)\n",
    "\n",
    "#bring in reference"
   ]
  },
  {
   "cell_type": "code",
   "execution_count": null,
   "metadata": {
    "collapsed": true
   },
   "outputs": [],
   "source": [
    "combine06071 = disrename0607.join(ref0607, left_key = 'DISTRICT', right_key = 'DISTRICT', full_outer = 'true', \n",
    "                    require_match = 'false', columns = 'true')\n",
    "\n",
    "#join on the district column to see district names"
   ]
  },
  {
   "cell_type": "code",
   "execution_count": null,
   "metadata": {
    "collapsed": true
   },
   "outputs": [],
   "source": [
    "district_ids = ['AUSTIN ISD', 'ROUND ROCK ISD', 'LEANDER ISD', 'PFLUGERVILLE ISD', 'HAYS CISD', 'DEL VALLE ISD', 'GEORGETOWN ISD', 'BASTROP ISD', 'MANOR ISD', 'LAKE TRAVIS ISD', 'EANES ISD', 'SAN MARCOS CISD', 'HUTTO ISD', 'DRIPPING SPRINGS ISD', 'ELGIN ISD']\n",
    "\n",
    "filter06071 = combine06071.where(lambda row: row['DISTNAME'].upper() in district_ids\n",
    "                              )\n",
    "\n",
    "#filter out unneeded districts\n"
   ]
  },
  {
   "cell_type": "code",
   "execution_count": null,
   "metadata": {
    "collapsed": true
   },
   "outputs": [],
   "source": [
    "filter06071.to_csv(path='filter06071.csv')\n",
    "\n",
    "#create new filtered and renamed csv"
   ]
  },
  {
   "cell_type": "code",
   "execution_count": null,
   "metadata": {
    "collapsed": true
   },
   "outputs": [],
   "source": [
    "year0607 = agate.Table.from_csv('../notebooks/year0607.csv')\n",
    "#bring in spreadsheet after years added in excel - couldn't find a way to do it in python."
   ]
  },
  {
   "cell_type": "code",
   "execution_count": null,
   "metadata": {
    "collapsed": true
   },
   "outputs": [],
   "source": [
    "year0607final = year0607.normalize(['DISTRICT','SCH_YR','YEAR','DISTNAME'],['COUNT_ALL',\n",
    "'COUNT_BLACK',\n",
    "'COUNT_HIS',\n",
    "'COUNT_WHITE',\n",
    "'COUNT_AI',\n",
    "'COUNT_API',\n",
    "'COUNT_ECON',\n",
    "'COUNT_ELL',\n",
    "'COUNT_ATRISK',\n",
    "'PER_BLACK',\n",
    "'PER_HIS',\n",
    "'PER_WHITE',\n",
    "'PER_AI',\n",
    "'PER_API',\n",
    "'PER_ECON',\n",
    "'PER_ELL',\n",
    "'PER_ATRISK',\n",
    "'BILINGUAL_ENROLL'])"
   ]
  },
  {
   "cell_type": "code",
   "execution_count": null,
   "metadata": {
    "collapsed": true
   },
   "outputs": [],
   "source": [
    "year0607final.to_csv(path='year0607final.csv')"
   ]
  },
  {
   "cell_type": "code",
   "execution_count": null,
   "metadata": {
    "collapsed": true
   },
   "outputs": [],
   "source": []
  }
 ],
 "metadata": {
  "kernelspec": {
   "display_name": "Python 3",
   "language": "python",
   "name": "python3"
  },
  "language_info": {
   "codemirror_mode": {
    "name": "ipython",
    "version": 3
   },
   "file_extension": ".py",
   "mimetype": "text/x-python",
   "name": "python",
   "nbconvert_exporter": "python",
   "pygments_lexer": "ipython3",
   "version": "3.5.1"
  }
 },
 "nbformat": 4,
 "nbformat_minor": 2
}
