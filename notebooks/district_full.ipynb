{
 "cells": [
  {
   "cell_type": "markdown",
   "metadata": {},
   "source": [
    "## Hello, full 10 years of district data"
   ]
  },
  {
   "cell_type": "markdown",
   "metadata": {},
   "source": [
    "...in one notebook. Here is how I did it:"
   ]
  },
  {
   "cell_type": "markdown",
   "metadata": {},
   "source": [
    "### Read in and join tables"
   ]
  },
  {
   "cell_type": "code",
   "execution_count": 110,
   "metadata": {
    "collapsed": true
   },
   "outputs": [],
   "source": [
    "import agate"
   ]
  },
  {
   "cell_type": "code",
   "execution_count": 111,
   "metadata": {},
   "outputs": [],
   "source": [
    "specified_types = {\n",
    "    'DISTRICT': agate.Text(),\n",
    "}\n",
    "\n",
    "#making district text due to leading zeroes, then read in all district and ref files\n",
    "\n",
    "district0607 = agate.Table.from_csv('../raw_data/0607district.csv', column_types=specified_types)\n",
    "district0708 = agate.Table.from_csv('../raw_data/0708district.csv', column_types=specified_types)\n",
    "district0809 = agate.Table.from_csv('../raw_data/0809district.csv', column_types=specified_types)\n",
    "district0910 = agate.Table.from_csv('../raw_data/0910district.csv', column_types=specified_types)\n",
    "district1011 = agate.Table.from_csv('../raw_data/1011.csv', column_types=specified_types)\n",
    "district1112 = agate.Table.from_csv('../raw_data/1112.csv', column_types=specified_types)\n",
    "district1213 = agate.Table.from_csv('../raw_data/1213.csv', column_types=specified_types)\n",
    "district1314 = agate.Table.from_csv('../raw_data/1314.csv', column_types=specified_types)\n",
    "district1415 = agate.Table.from_csv('../raw_data/1415.csv', column_types=specified_types)\n",
    "district1516 = agate.Table.from_csv('../raw_data/1516.csv', column_types=specified_types)\n",
    "ref0607 = agate.Table.from_csv('../raw_data/ref0607.csv', column_types=specified_types)\n",
    "ref0708 = agate.Table.from_csv('../raw_data/ref0708.csv', column_types=specified_types)\n",
    "ref0809 = agate.Table.from_csv('../raw_data/ref0809.csv', column_types=specified_types)\n",
    "ref0910 = agate.Table.from_csv('../raw_data/ref0910.csv', column_types=specified_types)\n",
    "ref1011 = agate.Table.from_csv('../raw_data/ref1011.csv', column_types=specified_types)\n",
    "ref1112 = agate.Table.from_csv('../raw_data/ref1112.csv', column_types=specified_types)\n",
    "ref1213 = agate.Table.from_csv('../raw_data/ref1213.csv', column_types=specified_types)\n",
    "ref1314 = agate.Table.from_csv('../raw_data/ref1314.csv', column_types=specified_types)\n",
    "ref1415 = agate.Table.from_csv('../raw_data/ref1415.csv', column_types=specified_types)\n",
    "ref1516 = agate.Table.from_csv('../raw_data/ref.csv', column_types=specified_types)"
   ]
  },
  {
   "cell_type": "code",
   "execution_count": 109,
   "metadata": {},
   "outputs": [],
   "source": [
    "district0607_year = district0607.join(ref0607, left_key = 'DISTRICT', right_key = 'DISTRICT', full_outer = 'true', require_match = 'false', columns = 'true')\n",
    "\n",
    "district0708_year = district0708.join(ref0708, left_key = 'DISTRICT', right_key = 'DISTRICT', full_outer = 'true', \n",
    "                    require_match = 'false', columns = 'true')\n",
    "\n",
    "district0809_year = district0809.join(ref0809, left_key = 'DISTRICT', right_key = 'DISTRICT', full_outer = 'true', \n",
    "                    require_match = 'false', columns = 'true')\n",
    "\n",
    "district0910_year = district0910.join(ref0910, left_key = 'DISTRICT', right_key = 'DISTRICT', full_outer = 'true', \n",
    "                    require_match = 'false', columns = 'true')\n",
    "\n",
    "district1011_year = district1011.join(ref1011, left_key = 'DISTRICT', right_key = 'DISTRICT', full_outer = 'true', \n",
    "                    require_match = 'false', columns = 'true')\n",
    "\n",
    "district1112_year = district1112.join(ref1112, left_key = 'DISTRICT', right_key = 'DISTRICT', full_outer = 'true', \n",
    "                    require_match = 'false', columns = 'true')\n",
    "\n",
    "district1213_year = district1213.join(ref1213, left_key = 'DISTRICT', right_key = 'DISTRICT', full_outer = 'true', \n",
    "                    require_match = 'false', columns = 'true')\n",
    "\n",
    "district1314_year = district1314.join(ref1314, left_key = 'DISTRICT', right_key = 'DISTRICT', full_outer = 'true', \n",
    "                    require_match = 'false', columns = 'true')\n",
    "\n",
    "district1415_year = district1415.join(ref1415, left_key = 'DISTRICT', right_key = 'DISTRICT', full_outer = 'true', \n",
    "                    require_match = 'false', columns = 'true')\n",
    "\n",
    "district1516_year = district1516.join(ref1516, left_key = 'DISTRICT', right_key = 'DISTRICT', full_outer = 'true', \n",
    "                    require_match = 'false', columns = 'true')\n",
    "\n",
    "district1516_year.to_csv(path='test.csv')\n",
    "#join on the district column to see district names\n",
    "#I took it to a csv to make sure it was working, so not necessary but still a thing I did. "
   ]
  },
  {
   "cell_type": "markdown",
   "metadata": {},
   "source": [
    "### Make variables for each set of columns needed."
   ]
  },
  {
   "cell_type": "code",
   "execution_count": 123,
   "metadata": {},
   "outputs": [],
   "source": [
    "columns_one = ['DISTRICT', 'DPETALLC','DPETBLAC', 'DPETHISC', 'DPETWHIC', 'DPETINDC', 'DPETPACC',\n",
    "        'DPETECOC', 'DPETLEPC','DPETRSKC', 'DPETBLAP','DPETHISP','DPETWHIP', 'DPETINDP', 'DPETPACP', 'DPETECOP','DPETLEPP',\n",
    "'DPETRSKP','DPETBILC', 'DISTNAME']\n",
    "\n",
    "columns_two = ['DISTRICT', 'DPETALLC','DPETBLAC', 'DPETHISC', 'DPETWHIC', 'DPETINDC', 'DPETASIC', 'DPETPCIC',\n",
    "        'DPETECOC', 'DPETLEPC','DPETRSKC', 'DPETBLAP','DPETHISP','DPETWHIP', 'DPETINDP', 'DPETASIP', 'DPETPCIP', 'DPETECOP','DPETLEPP',\n",
    "'DPETRSKP','DPETBILC', 'DISTNAME']\n",
    "\n",
    "columns_three = ['DISTRICT', 'DPETALLC','DPETBLAC', 'DPETHISC', 'DPETWHIC', 'DPETINDC', 'DPETASIC', 'DPETPCIC', 'DPETTWOC',\n",
    "       'DPETECOC', 'DPETLEPC','DPETBLAP','DPETHISP','DPETWHIP','DPETINDP', 'DPETASIP', 'DPETPCIP', 'DPETTWOP', 'DPETECOP','DPETLEPP', 'DISTNAME']\n",
    " \n",
    "district0607_select = district0607_year.select(columns_one)\n",
    "district0708_select = district0708_year.select(columns_one)\n",
    "district0809_select = district0809_year.select(columns_one)\n",
    "district0910_select = district0910_year.select(columns_one)\n",
    "district1011_select = district1011_year.select(columns_two)\n",
    "district1112_select = district1112_year.select(columns_three)\n",
    "district1213_select = district1213_year.select(columns_three)\n",
    "district1314_select = district1314_year.select(columns_three)\n",
    "district1415_select = district1415_year.select(columns_three)\n",
    "district1516_select = district1516_year.select(columns_three)\n",
    "\n",
    "#Filtered the columns needed, then used .select to apply them to tables. \n",
    "####MAKE SURE YOU INCLUDED DISTNAME AS A COLUMN YOU WANT - I forgot about it and it caused issues when normalizing and merging. "
   ]
  },
  {
   "cell_type": "markdown",
   "metadata": {},
   "source": [
    "### Make another three variables, these giving clear names for the columns."
   ]
  },
  {
   "cell_type": "code",
   "execution_count": 124,
   "metadata": {},
   "outputs": [],
   "source": [
    "column_names_one = {'DISTRICT': 'DISTRICT',\n",
    "                                       'DPETALLC': 'COUNT_ALL',\n",
    "                                       'DPETBLAC': 'COUNT_BLACK',\n",
    "                                       'DPETHISC': 'COUNT_HIS',\n",
    "                                       'DPETWHIC': 'COUNT_WHITE',\n",
    "                                       'DPETINDC': 'COUNT_AI',\n",
    "                                       'DPETPACC': 'COUNT_API',\n",
    "                                       'DPETECOC': 'COUNT_ECON',\n",
    "                                       'DPETLEPC': 'COUNT_ELL',\n",
    "                                       'DPETRSKC': 'COUNT_ATRISK',\n",
    "                                       'DPETBLAP': 'PER_BLACK',\n",
    "                                       'DPETHISP': 'PER_HIS',\n",
    "                                       'DPETWHIP': 'PER_WHITE',\n",
    "                                       'DPETINDP': 'PER_AI',\n",
    "                                       'DPETPACP': 'PER_API',\n",
    "                                       'DPETECOP': 'PER_ECON',\n",
    "                                       'DPETLEPP': 'PER_ELL',\n",
    "                                       'DPETRSKP': 'PER_ATRISK',\n",
    "                                       'DPETBILC': 'BILINGUAL_ENROLL'}\n",
    "\n",
    "column_names_two = {'DISTRICT': 'DISTRICT',\n",
    "                                       'DPETALLC': 'COUNT_ALL',\n",
    "                                       'DPETBLAC': 'COUNT_BLACK',\n",
    "                                       'DPETHISC': 'COUNT_HIS',\n",
    "                                       'DPETWHIC': 'COUNT_WHITE',\n",
    "                                       'DPETINDC': 'COUNT_AI',\n",
    "                                       'DPETASIC': 'COUNT_ASIAN',\n",
    "                                       'DPETPCIC': 'COUNT_PI',\n",
    "                                       'DPETTWOC': 'COUNT_TWO',\n",
    "                                       'DPETECOC': 'COUNT_ECON',\n",
    "                                       'DPETLEPC': 'COUNT_ELL',\n",
    "                                       'DPETBLAP': 'PER_BLACK',\n",
    "                                       'DPETHISP': 'PER_HIS',\n",
    "                                       'DPETWHIP': 'PER_WHITE',\n",
    "                                       'DPETINDP': 'PER_AI',\n",
    "                                       'DPETASIP': 'PER_ASIAN',\n",
    "                                       'DPETPCIP': 'PER_PI',                \n",
    "                                       'DPETECOP': 'PER_ECON',\n",
    "                                       'DPETLEPP': 'PER_ELL',\n",
    "                                       'DPETBILC': 'BILINGUAL_ENROLL'}\n",
    "\n",
    "column_names_three = {'DISTRICT': 'DISTRICT',\n",
    "                                       'DPETALLC': 'COUNT_ALL',\n",
    "                                       'DPETBLAC': 'COUNT_BLACK',\n",
    "                                       'DPETHISC': 'COUNT_HIS',\n",
    "                                       'DPETWHIC': 'COUNT_WHITE',\n",
    "                                       'DPETINDC': 'COUNT_AI',\n",
    "                                       'DPETASIC': 'COUNT_ASIAN',\n",
    "                                       'DPETPCIC': 'COUNT_PI',\n",
    "                                       'DPETTWOC': 'COUNT_TWO',\n",
    "                                       'DPETECOC': 'COUNT_ECON',\n",
    "                                       'DPETLEPC': 'COUNT_ELL',\n",
    "                                       'DPETBLAP': 'PER_BLACK',\n",
    "                                       'DPETHISP': 'PER_HIS',\n",
    "                                       'DPETWHIP': 'PER_WHITE',\n",
    "                                       'DPETINDP': 'PER_AI',\n",
    "                                       'DPETASIP': 'PER_ASIAN',\n",
    "                                       'DPETPCIP': 'PER_PI',\n",
    "                                       'DPETTWOP': 'PER_TWO',                \n",
    "                                       'DPETECOP': 'PER_ECON',\n",
    "                                       'DPETLEPP': 'PER_ELL',\n",
    "                                       'DPETBILC': 'BILINGUAL_ENROLL'}\n",
    "\n",
    "district0607_rename = district0607_select.rename(column_names_one)\n",
    "district0708_rename = district0708_select.rename(column_names_one)\n",
    "district0809_rename = district0809_select.rename(column_names_one)\n",
    "district0910_rename = district0910_select.rename(column_names_one)\n",
    "district1011_rename = district1011_select.rename(column_names_two)\n",
    "district1112_rename = district1112_select.rename(column_names_three)\n",
    "district1213_rename = district1213_select.rename(column_names_three)\n",
    "district1314_rename = district1314_select.rename(column_names_three)\n",
    "district1415_rename = district1415_select.rename(column_names_three)\n",
    "district1516_rename = district1516_select.rename(column_names_three)\n",
    "\n",
    "\n",
    "#List of new names for each set of columns, then apply to tables using .rename."
   ]
  },
  {
   "cell_type": "markdown",
   "metadata": {},
   "source": [
    "### Add the date column\n",
    "I used a different variation of what you used because this had been working for me. I had to adjust the year_value for each set, so there still might be an easier way out there, but this is worked for now. "
   ]
  },
  {
   "cell_type": "code",
   "execution_count": 125,
   "metadata": {},
   "outputs": [],
   "source": [
    "#add date column - one code section per year\n",
    "class datecolumn(agate.Computation): \n",
    "    def get_computed_data_type(self, table):\n",
    "        return agate.Text()\n",
    "    def run(self, table):\n",
    "        new_column = []\n",
    "        for row in table.rows:\n",
    "            new_column.append(year_value)\n",
    "        return new_column\n",
    "    \n",
    "year_value = '01-01-07'\n",
    "district0607_date = district0607_rename.compute([\n",
    "    ('year', datecolumn())\n",
    "])"
   ]
  },
  {
   "cell_type": "code",
   "execution_count": 126,
   "metadata": {
    "collapsed": true
   },
   "outputs": [],
   "source": [
    "year_value = '01-01-08'\n",
    "district0708_date = district0708_rename.compute([\n",
    "    ('year', datecolumn())\n",
    "])"
   ]
  },
  {
   "cell_type": "code",
   "execution_count": 127,
   "metadata": {
    "collapsed": true
   },
   "outputs": [],
   "source": [
    "year_value = '01-01-09'\n",
    "district0809_date = district0809_rename.compute([\n",
    "    ('year', datecolumn())\n",
    "])"
   ]
  },
  {
   "cell_type": "code",
   "execution_count": 128,
   "metadata": {
    "collapsed": true
   },
   "outputs": [],
   "source": [
    "year_value = '01-01-10'\n",
    "district0910_date = district0910_rename.compute([\n",
    "    ('year', datecolumn())\n",
    "])"
   ]
  },
  {
   "cell_type": "code",
   "execution_count": 129,
   "metadata": {
    "collapsed": true
   },
   "outputs": [],
   "source": [
    "year_value = '01-01-11'\n",
    "district1011_date = district1011_rename.compute([\n",
    "    ('year', datecolumn())\n",
    "])"
   ]
  },
  {
   "cell_type": "code",
   "execution_count": 130,
   "metadata": {
    "collapsed": true
   },
   "outputs": [],
   "source": [
    "year_value = '01-01-12'\n",
    "district1112_date = district1112_rename.compute([\n",
    "    ('year', datecolumn())\n",
    "])"
   ]
  },
  {
   "cell_type": "code",
   "execution_count": 131,
   "metadata": {
    "collapsed": true
   },
   "outputs": [],
   "source": [
    "year_value = '01-01-13'\n",
    "district1213_date = district1213_rename.compute([\n",
    "    ('year', datecolumn())\n",
    "])"
   ]
  },
  {
   "cell_type": "code",
   "execution_count": 132,
   "metadata": {
    "collapsed": true
   },
   "outputs": [],
   "source": [
    "year_value = '01-01-14'\n",
    "district1314_date = district1314_rename.compute([\n",
    "    ('year', datecolumn())\n",
    "])"
   ]
  },
  {
   "cell_type": "code",
   "execution_count": 133,
   "metadata": {
    "collapsed": true
   },
   "outputs": [],
   "source": [
    "year_value = '01-01-15'\n",
    "district1415_date = district1415_rename.compute([\n",
    "    ('year', datecolumn())\n",
    "])"
   ]
  },
  {
   "cell_type": "code",
   "execution_count": 134,
   "metadata": {
    "collapsed": true
   },
   "outputs": [],
   "source": [
    "year_value = '01-01-16'\n",
    "district1516_date = district1516_rename.compute([\n",
    "    ('year', datecolumn())\n",
    "])"
   ]
  },
  {
   "cell_type": "markdown",
   "metadata": {},
   "source": [
    "### Merge tables"
   ]
  },
  {
   "cell_type": "code",
   "execution_count": 136,
   "metadata": {
    "collapsed": true
   },
   "outputs": [],
   "source": [
    "district_full = agate.Table.merge([district0607_date, district0708_date, district0809_date, district0910_date, district1011_date, district1112_date, district1213_date, district1314_date, district1415_date, district1516_date])\n",
    "\n",
    "district_full.to_csv(path='district_full.csv')\n",
    "\n",
    "#create the full table using .merge.\n",
    "#Not really necessary to write it to csv, but I did as part of troubleshooting and left it. "
   ]
  },
  {
   "cell_type": "code",
   "execution_count": 137,
   "metadata": {},
   "outputs": [],
   "source": [
    "district_ids = ['AUSTIN ISD', 'ROUND ROCK ISD', 'LEANDER ISD', 'PFLUGERVILLE ISD', 'HAYS CISD', 'DEL VALLE ISD', 'GEORGETOWN ISD', 'BASTROP ISD', 'MANOR ISD', 'LAKE TRAVIS ISD', 'EANES ISD', 'SAN MARCOS CISD', 'HUTTO ISD', 'DRIPPING SPRINGS ISD', 'ELGIN ISD']\n",
    "\n",
    "district_filter = district_full.where(lambda row: row['DISTNAME'].upper() in district_ids\n",
    "                              )\n",
    "\n",
    "district_filter.to_csv(path='district_filter.csv')\n",
    "\n",
    "#filter out unneeded districts using .where \n",
    "####Like I said, if you get an error that says 'DISTNAME', it might be because you didn't name it as a column to keep at the beginning.\n",
    "####You also don't need to write it to csv here either - I did because I thought .normalize was a bash function. \n"
   ]
  },
  {
   "cell_type": "markdown",
   "metadata": {},
   "source": [
    "### Normalize"
   ]
  },
  {
   "cell_type": "code",
   "execution_count": 140,
   "metadata": {
    "collapsed": true
   },
   "outputs": [],
   "source": [
    "district_full_normalized = district_filter.normalize(['DISTRICT','year','DISTNAME'],['COUNT_ALL',\n",
    "'COUNT_BLACK',\n",
    "'COUNT_HIS',\n",
    "'COUNT_WHITE',\n",
    "'COUNT_AI',\n",
    "'COUNT_API',\n",
    "'COUNT_ECON',\n",
    "'COUNT_ELL',\n",
    "'COUNT_ATRISK',\n",
    "'PER_BLACK',\n",
    "'PER_HIS',\n",
    "'PER_WHITE',\n",
    "'PER_AI',\n",
    "'PER_API',\n",
    "'PER_ECON',\n",
    "'PER_ELL',\n",
    "'PER_ATRISK',\n",
    "'BILINGUAL_ENROLL'])\n",
    "\n",
    "#Use .normalize to create long list - put things you need to have every row in \n",
    "#the first bracket set and all other column names in the second set."
   ]
  },
  {
   "cell_type": "code",
   "execution_count": 141,
   "metadata": {
    "collapsed": true
   },
   "outputs": [],
   "source": [
    "district_full_normalized.to_csv(path='district_full_normalized.csv')\n",
    "#Actually need to write to csv here so you can use it elsewhere aka Tableau."
   ]
  },
  {
   "cell_type": "code",
   "execution_count": null,
   "metadata": {
    "collapsed": true
   },
   "outputs": [],
   "source": []
  }
 ],
 "metadata": {
  "kernelspec": {
   "display_name": "Python 3",
   "language": "python",
   "name": "python3"
  },
  "language_info": {
   "codemirror_mode": {
    "name": "ipython",
    "version": 3
   },
   "file_extension": ".py",
   "mimetype": "text/x-python",
   "name": "python",
   "nbconvert_exporter": "python",
   "pygments_lexer": "ipython3",
   "version": "3.6.1"
  }
 },
 "nbformat": 4,
 "nbformat_minor": 2
}
