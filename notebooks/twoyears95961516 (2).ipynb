{
 "cells": [
  {
   "cell_type": "code",
   "execution_count": 1,
   "metadata": {
    "collapsed": true
   },
   "outputs": [],
   "source": [
    "import agate"
   ]
  },
  {
   "cell_type": "markdown",
   "metadata": {},
   "source": [
    "# This is how we set up the data to show changes between 95/96 and 15/16"
   ]
  },
  {
   "cell_type": "code",
   "execution_count": 2,
   "metadata": {
    "collapsed": true
   },
   "outputs": [],
   "source": [
    "# bring data in\n",
    "specified_types = {\n",
    "    'CAMPUS': agate.Text()\n",
    "}\n",
    "#demographic data\n",
    "students9596 = agate.Table.from_csv('../raw_data/stud9596.csv')\n",
    "students1516 = agate.Table.from_csv('../raw_data/1516student.txt')\n",
    "#campus data\n",
    "cr9596 = agate.Table.from_csv('../raw_data/campref.csv')\n",
    "cr1516 = agate.Table.from_csv('../raw_data/1516cr.txt')\n",
    "locations = agate.Table.from_csv('../raw_data/Current_Schools.csv')\n"
   ]
  },
  {
   "cell_type": "markdown",
   "metadata": {},
   "source": [
    "### Join the student and campus data together. "
   ]
  },
  {
   "cell_type": "code",
   "execution_count": 3,
   "metadata": {},
   "outputs": [
    {
     "name": "stdout",
     "output_type": "stream",
     "text": [
      "| column   | data_type |\n",
      "| -------- | --------- |\n",
      "| CAMPUS   | Number    |\n",
      "| CPETECOP | Number    |\n",
      "| CPETECOC | Number    |\n",
      "| CPETBILC | Number    |\n",
      "| CPETALLC | Number    |\n",
      "| CPETINDC | Number    |\n",
      "| CPETPACC | Number    |\n",
      "| CPETBLAC | Number    |\n",
      "| CPETHISC | Number    |\n",
      "| CPETWHIC | Number    |\n",
      "| CPETWHIP | Number    |\n",
      "| CPETBLAP | Number    |\n",
      "| CPETHISP | Number    |\n",
      "| CPETINDP | Number    |\n",
      "| CPETPACP | Number    |\n",
      "| CPETBILP | Number    |\n",
      "| DISTNAME | Text      |\n",
      "| CAMPNAME | Text      |\n",
      "| CLASS    | Text      |\n",
      "\n"
     ]
    }
   ],
   "source": [
    "#join student and campus data\n",
    "join9596 = students9596.join(cr9596, 'CAMPUS')\n",
    "join1516 = students1516.join(cr1516, 'CAMPUS')\n",
    "\n",
    "#check that everything made it\n",
    "print(join9596)"
   ]
  },
  {
   "cell_type": "markdown",
   "metadata": {},
   "source": [
    "## Select needed columns, then rename them"
   ]
  },
  {
   "cell_type": "code",
   "execution_count": 4,
   "metadata": {
    "collapsed": true
   },
   "outputs": [],
   "source": [
    "#sets of columns, then selects them\n",
    "columns_one = ['CAMPUS', 'CPETALLC','CPETBLAC', 'CPETHISC', 'CPETWHIC', 'CPETINDC', 'CPETPACC',\n",
    "        'CPETBLAP','CPETHISP','CPETWHIP', 'CPETINDP', 'CPETPACP','CPETBILC', 'DISTNAME', 'CAMPNAME']\n",
    "\n",
    "columns_three = ['CAMPUS', 'CPETALLC','CPETBLAC', 'CPETHISC', 'CPETWHIC', 'CPETINDC', 'CPETASIC', 'CPETPCIC', 'CPETTWOC',\n",
    "       'CPETECOC', 'CPETLEPC','CPETBLAP','CPETHISP','CPETWHIP','CPETINDP', 'CPETASIP', 'CPETPCIP', 'CPETTWOP', 'CPETECOP','CPETLEPP', 'DISTNAME', 'CAMPNAME']\n",
    " \n",
    "campus9596_select = join9596.select(columns_one)\n",
    "campus1516_select = join1516.select(columns_three)"
   ]
  },
  {
   "cell_type": "markdown",
   "metadata": {},
   "source": [
    "## Rename all of the columns - the years are very helpful if/when the date column doesn't work/transfer"
   ]
  },
  {
   "cell_type": "code",
   "execution_count": 5,
   "metadata": {
    "collapsed": true
   },
   "outputs": [],
   "source": [
    "#rename\n",
    "column_names_one = {'CAMPUS': 'CAMPUS',\n",
    "                                       'CPETALLC': 'ALL_9596',\n",
    "                                       'CPETBLAC': 'B_9596',\n",
    "                                       'CPETHISC': 'H_9596',\n",
    "                                       'CPETWHIC': 'W_9596',\n",
    "                                       'CPETINDC': 'AI_9596',\n",
    "                                       'CPETPACC': 'API_9596',\n",
    "                                       'CPETBLAP': 'BP_9596',\n",
    "                                       'CPETHISP': 'HP_9596',\n",
    "                                       'CPETWHIP': 'WP_9596',\n",
    "                                       'CPETINDP': 'AIP_9596',\n",
    "                                       'CPETPACP': 'APIP_9596',\n",
    "                                       'CPETBILC': 'BILINGUAL_ENROLL'}\n",
    "column_names_three = {'CAMPUS': 'CAMPUS',\n",
    "                                       'CPETALLC': 'ALL_1516',\n",
    "                                       'CPETBLAC': 'B_1516',\n",
    "                                       'CPETHISC': 'H_1516',\n",
    "                                       'CPETWHIC': 'W_1516',\n",
    "                                       'CPETINDC': 'AI_1516',\n",
    "                                       'CPETASIC': 'AS_1516',\n",
    "                                       'CPETPCIC': 'PI_1516',\n",
    "                                       'CPETTWOC': 'TWO_1516',\n",
    "                                       'CPETECOC': 'EC_1516',\n",
    "                                       'CPETLEPC': 'EL_1516',\n",
    "                                       'CPETBLAP': 'BP_1516',\n",
    "                                       'CPETHISP': 'HP_1516',\n",
    "                                       'CPETWHIP': 'WP_1516',\n",
    "                                       'CPETINDP': 'AIP_1516',\n",
    "                                       'CPETASIP': 'ASP_1516',\n",
    "                                       'CPETPCIP': 'PIP_1516',\n",
    "                                       'CPETTWOP': 'TWOP_1516',                \n",
    "                                       'CPETECOP': 'ECP_1516',\n",
    "                                       'CPETLEPP': 'ELP_1516',\n",
    "                                       'CPETBILC': 'BILINGUAL_ENROLL'}\n",
    "campus9596_rename = campus9596_select.rename(column_names_one)\n",
    "campus1516_rename = campus1516_select.rename(column_names_three)"
   ]
  },
  {
   "cell_type": "markdown",
   "metadata": {},
   "source": [
    "## Set up the date column - useful for line graphs and telling where the data came from"
   ]
  },
  {
   "cell_type": "code",
   "execution_count": 6,
   "metadata": {
    "collapsed": true
   },
   "outputs": [],
   "source": [
    "#set up date column\n",
    "class datecolumn(agate.Computation): \n",
    "    def get_computed_data_type(self, table):\n",
    "        return agate.Text()\n",
    "    def run(self, table):\n",
    "        new_column = []\n",
    "        for row in table.rows:\n",
    "            new_column.append(year_value)\n",
    "        return new_column\n",
    "#add 0607 date column    \n",
    "year_value = '1996-01-01'\n",
    "campus9596_date = campus9596_rename.compute([\n",
    "    ('year', datecolumn())\n",
    "])"
   ]
  },
  {
   "cell_type": "code",
   "execution_count": 7,
   "metadata": {
    "collapsed": true
   },
   "outputs": [],
   "source": [
    "#repeat for 1516\n",
    "year_value = '2016-01-01'\n",
    "campus1516_date = campus1516_rename.compute([\n",
    "    ('year', datecolumn())\n",
    "])"
   ]
  },
  {
   "cell_type": "code",
   "execution_count": 8,
   "metadata": {
    "collapsed": true
   },
   "outputs": [],
   "source": [
    "#join them together\n",
    "combo = campus1516_date.join(campus9596_date, 'CAMPUS')"
   ]
  },
  {
   "cell_type": "code",
   "execution_count": 9,
   "metadata": {
    "collapsed": true
   },
   "outputs": [],
   "source": [
    "## Now filter to needed districts.\n",
    "\n",
    "district_ids = ['AUSTIN ISD', 'PFLUGERVILLE ISD', 'MANOR ISD']\n",
    "\n",
    "filteredcombo = combo.where(lambda row: row['DISTNAME'].upper() in district_ids\n",
    "                              )\n",
    "## We originally had a set of 15 districts in the area, but ultimately used these three per Melissa. A full district\n",
    "## list can be pulled from the campus_full notebook. \n"
   ]
  },
  {
   "cell_type": "markdown",
   "metadata": {},
   "source": [
    "## Join locations and campus tables so we can map the data"
   ]
  },
  {
   "cell_type": "code",
   "execution_count": 10,
   "metadata": {},
   "outputs": [
    {
     "name": "stderr",
     "output_type": "stream",
     "text": [
      "/Users/okrauth/anaconda3/envs/data/lib/python3.6/site-packages/agate/utils.py:291: DuplicateColumnWarning: Column name \"DISTNAME2\" already exists in Table. Column will be renamed to \"DISTNAME2_2\".\n",
      "/Users/okrauth/anaconda3/envs/data/lib/python3.6/site-packages/agate/utils.py:291: DuplicateColumnWarning: Column name \"CAMPNAME2\" already exists in Table. Column will be renamed to \"CAMPNAME2_2\".\n"
     ]
    }
   ],
   "source": [
    "#add geo data\n",
    "located = filteredcombo.join(locations, 'CAMPUS')"
   ]
  },
  {
   "cell_type": "code",
   "execution_count": 11,
   "metadata": {
    "collapsed": true
   },
   "outputs": [],
   "source": [
    "latlong = {'\\ufeffX': 'longitude',\n",
    "          'Y': 'latitude'}\n",
    "located = located.rename(latlong)\n",
    "#fix funky name for longitude - this has been fixing the problem, but if you get an error, check this first. "
   ]
  },
  {
   "cell_type": "markdown",
   "metadata": {},
   "source": [
    "## Filter the columns and apply"
   ]
  },
  {
   "cell_type": "code",
   "execution_count": 12,
   "metadata": {
    "collapsed": true
   },
   "outputs": [],
   "source": [
    "#select columns\n",
    "location_columns = ['DISTNAME', 'CAMPNAME', 'longitude', 'latitude','STREET', 'CITY', 'ZIP','CAMPUS','year',\n",
    "                    'ALL_9596','ALL_1516','B_9596','B_1516','H_9596','H_1516','W_9596','W_1516','AI_9596','AI_1516',\n",
    "                    'API_9596','AS_1516','PI_1516','TWO_1516','EC_1516','EL_1516',\n",
    "                    'BP_9596','BP_1516','HP_9596','HP_1516','WP_9596','WP_1516','AIP_9596','AIP_1516',\n",
    "                    'APIP_9596','ASP_1516','PIP_1516','TWOP_1516','ECP_1516','ELP_1516']"
   ]
  },
  {
   "cell_type": "code",
   "execution_count": 13,
   "metadata": {
    "collapsed": true
   },
   "outputs": [],
   "source": [
    "#select columns pt 2\n",
    "locationfiltertwo = located.select(location_columns)\n",
    "locationfiltertwo.to_csv(path='locationfiltertwo.csv')"
   ]
  },
  {
   "cell_type": "markdown",
   "metadata": {},
   "source": [
    "## Add Asian and Pacific Islander columns together in 15/16"
   ]
  },
  {
   "cell_type": "code",
   "execution_count": 14,
   "metadata": {
    "collapsed": true
   },
   "outputs": [],
   "source": [
    "#This allows the data to stay consistent between both years since A/PI became separate columns around 2011/12. \n",
    "\n",
    "def f(row):\n",
    "    return (row['AS_1516'] + row['PI_1516'])\n",
    "\n",
    "asiancombo = locationfiltertwo.compute([\n",
    "    ('API_1516', agate.Formula(agate.Number(), f))\n",
    "])\n",
    "\n",
    "def f(row):\n",
    "    return (row['ASP_1516'] + row['PIP_1516'])\n",
    "\n",
    "fullcombo = asiancombo.compute([\n",
    "    ('APIP_1516', agate.Formula(agate.Number(), f))\n",
    "])\n",
    "\n"
   ]
  },
  {
   "cell_type": "markdown",
   "metadata": {},
   "source": [
    "## Create change columns to see the difference between the two years"
   ]
  },
  {
   "cell_type": "code",
   "execution_count": 15,
   "metadata": {},
   "outputs": [
    {
     "name": "stderr",
     "output_type": "stream",
     "text": [
      "/Users/okrauth/anaconda3/envs/data/lib/python3.6/site-packages/agate/computations/change.py:49: NullCalculationWarning: Column \"ALL_9596\" contains nulls. These will be excluded from Change calculation.\n",
      "/Users/okrauth/anaconda3/envs/data/lib/python3.6/site-packages/agate/computations/change.py:49: NullCalculationWarning: Column \"B_9596\" contains nulls. These will be excluded from Change calculation.\n",
      "/Users/okrauth/anaconda3/envs/data/lib/python3.6/site-packages/agate/computations/change.py:49: NullCalculationWarning: Column \"H_9596\" contains nulls. These will be excluded from Change calculation.\n",
      "/Users/okrauth/anaconda3/envs/data/lib/python3.6/site-packages/agate/computations/change.py:49: NullCalculationWarning: Column \"W_9596\" contains nulls. These will be excluded from Change calculation.\n",
      "/Users/okrauth/anaconda3/envs/data/lib/python3.6/site-packages/agate/computations/change.py:49: NullCalculationWarning: Column \"AI_9596\" contains nulls. These will be excluded from Change calculation.\n",
      "/Users/okrauth/anaconda3/envs/data/lib/python3.6/site-packages/agate/computations/change.py:49: NullCalculationWarning: Column \"API_9596\" contains nulls. These will be excluded from Change calculation.\n",
      "/Users/okrauth/anaconda3/envs/data/lib/python3.6/site-packages/agate/computations/change.py:49: NullCalculationWarning: Column \"BP_9596\" contains nulls. These will be excluded from Change calculation.\n",
      "/Users/okrauth/anaconda3/envs/data/lib/python3.6/site-packages/agate/computations/change.py:49: NullCalculationWarning: Column \"HP_9596\" contains nulls. These will be excluded from Change calculation.\n",
      "/Users/okrauth/anaconda3/envs/data/lib/python3.6/site-packages/agate/computations/change.py:49: NullCalculationWarning: Column \"WP_9596\" contains nulls. These will be excluded from Change calculation.\n",
      "/Users/okrauth/anaconda3/envs/data/lib/python3.6/site-packages/agate/computations/change.py:49: NullCalculationWarning: Column \"AIP_9596\" contains nulls. These will be excluded from Change calculation.\n",
      "/Users/okrauth/anaconda3/envs/data/lib/python3.6/site-packages/agate/computations/change.py:49: NullCalculationWarning: Column \"APIP_9596\" contains nulls. These will be excluded from Change calculation.\n"
     ]
    }
   ],
   "source": [
    "#This will create new columns to show the change.\n",
    "changecombo = fullcombo.compute([\n",
    "    ('ALL_CHANGE', agate.Change('ALL_9596', 'ALL_1516')),\n",
    "    ('B_CHANGE', agate.Change('B_9596', 'B_1516')),\n",
    "    ('H_CHANGE', agate.Change('H_9596', 'H_1516')),\n",
    "    ('W_CHANGE', agate.Change('W_9596', 'W_1516')),\n",
    "    ('AI_CHANGE', agate.Change('AI_9596', 'AI_1516')),\n",
    "    ('API_CHANGE', agate.Change('API_9596', 'API_1516')),\n",
    "    ('BP_CHANGE', agate.Change('BP_9596', 'BP_1516')),\n",
    "    ('HP_CHANGE', agate.Change('HP_9596', 'HP_1516')),\n",
    "    ('WP_CHANGE', agate.Change('WP_9596', 'WP_1516')),\n",
    "    ('AIP_CHANGE', agate.Change('AIP_9596', 'AIP_1516')),\n",
    "    ('APIP_CHANGE', agate.Change('APIP_9596', 'APIP_1516'))\n",
    "  ])"
   ]
  },
  {
   "cell_type": "markdown",
   "metadata": {},
   "source": [
    "### Send to CSV - we use this and the next CSV to get a full range of information in Tableau"
   ]
  },
  {
   "cell_type": "code",
   "execution_count": 16,
   "metadata": {
    "collapsed": true
   },
   "outputs": [],
   "source": [
    "changecombo.to_csv(path='changecombo9516.csv')"
   ]
  },
  {
   "cell_type": "markdown",
   "metadata": {},
   "source": [
    "## Make columns with race/95 number/15 number/change for both the counts and the percentages"
   ]
  },
  {
   "cell_type": "code",
   "execution_count": 17,
   "metadata": {},
   "outputs": [
    {
     "name": "stdout",
     "output_type": "stream",
     "text": [
      "| column      | data_type |\n",
      "| ----------- | --------- |\n",
      "| DISTNAME    | Text      |\n",
      "| CAMPNAME    | Text      |\n",
      "| longitude   | Number    |\n",
      "| latitude    | Number    |\n",
      "| STREET      | Text      |\n",
      "| CITY        | Text      |\n",
      "| ZIP         | Number    |\n",
      "| CAMPUS      | Number    |\n",
      "| year        | Text      |\n",
      "| ALL_9596    | Number    |\n",
      "| ALL_1516    | Number    |\n",
      "| B_9596      | Number    |\n",
      "| B_1516      | Number    |\n",
      "| H_9596      | Number    |\n",
      "| H_1516      | Number    |\n",
      "| W_9596      | Number    |\n",
      "| W_1516      | Number    |\n",
      "| AI_9596     | Number    |\n",
      "| AI_1516     | Number    |\n",
      "| API_9596    | Number    |\n",
      "| AS_1516     | Number    |\n",
      "| PI_1516     | Number    |\n",
      "| TWO_1516    | Number    |\n",
      "| EC_1516     | Number    |\n",
      "| EL_1516     | Number    |\n",
      "| BP_9596     | Number    |\n",
      "| BP_1516     | Number    |\n",
      "| HP_9596     | Number    |\n",
      "| HP_1516     | Number    |\n",
      "| WP_9596     | Number    |\n",
      "| WP_1516     | Number    |\n",
      "| AIP_9596    | Number    |\n",
      "| AIP_1516    | Number    |\n",
      "| APIP_9596   | Number    |\n",
      "| ASP_1516    | Number    |\n",
      "| PIP_1516    | Number    |\n",
      "| TWOP_1516   | Number    |\n",
      "| ECP_1516    | Number    |\n",
      "| ELP_1516    | Number    |\n",
      "| API_1516    | Number    |\n",
      "| APIP_1516   | Number    |\n",
      "| ALL_CHANGE  | Number    |\n",
      "| B_CHANGE    | Number    |\n",
      "| H_CHANGE    | Number    |\n",
      "| W_CHANGE    | Number    |\n",
      "| AI_CHANGE   | Number    |\n",
      "| API_CHANGE  | Number    |\n",
      "| BP_CHANGE   | Number    |\n",
      "| HP_CHANGE   | Number    |\n",
      "| WP_CHANGE   | Number    |\n",
      "| AIP_CHANGE  | Number    |\n",
      "| APIP_CHANGE | Number    |\n",
      "| B_combo     | Text      |\n",
      "| H_combo     | Text      |\n",
      "| W_combo     | Text      |\n",
      "| AI_combo    | Text      |\n",
      "| API_combo   | Text      |\n",
      "| BP_combo    | Text      |\n",
      "| HP_combo    | Text      |\n",
      "| WP_combo    | Text      |\n",
      "| AIP_combo   | Text      |\n",
      "| APIP_combo  | Text      |\n",
      "\n"
     ]
    }
   ],
   "source": [
    "#making some combos\n",
    "combos = changecombo.compute([\n",
    "    ('B_combo', agate.Formula(agate.Text(), lambda row: 'BLACK'\\\n",
    "                              + \"|\"\n",
    "                              + str(row['B_9596'])\\\n",
    "                              + \"|\"\n",
    "                              + str(row['B_1516'])\\\n",
    "                              + \"|\"\n",
    "                              + str(row['B_CHANGE'])\\\n",
    "                             )),\n",
    "    ('H_combo', agate.Formula(agate.Text(), lambda row: 'HISPANIC'\\\n",
    "                              + \"|\"\n",
    "                              + str(row['H_9596'])\\\n",
    "                              + \"|\"\n",
    "                              + str(row['H_1516'])\\\n",
    "                              + \"|\"\n",
    "                              + str(row['H_CHANGE'])\\\n",
    "                             )),\n",
    "    ('W_combo', agate.Formula(agate.Text(), lambda row: 'WHITE'\\\n",
    "                              + \"|\"\n",
    "                              + str(row['W_9596'])\\\n",
    "                              + \"|\"\n",
    "                              + str(row['W_1516'])\\\n",
    "                              + \"|\"\n",
    "                              + str(row['W_CHANGE'])\\\n",
    "                             )),\n",
    "    ('AI_combo', agate.Formula(agate.Text(), lambda row: 'INDIAN'\\\n",
    "                              + \"|\"\n",
    "                              + str(row['AI_9596'])\\\n",
    "                              + \"|\"\n",
    "                              + str(row['AI_1516'])\\\n",
    "                              + \"|\"\n",
    "                              + str(row['AI_CHANGE'])\\\n",
    "                             )),\n",
    "    ('API_combo', agate.Formula(agate.Text(), lambda row: 'API'\\\n",
    "                              + \"|\"\n",
    "                              + str(row['API_9596'])\\\n",
    "                              + \"|\"\n",
    "                              + str(row['API_1516'])\\\n",
    "                              + \"|\"\n",
    "                              + str(row['API_CHANGE'])\\\n",
    "                             )),\n",
    "    ('BP_combo', agate.Formula(agate.Text(), lambda row: 'BLACKP'\\\n",
    "                              + \"|\"\n",
    "                              + str(row['BP_9596'])\\\n",
    "                              + \"|\"\n",
    "                              + str(row['BP_1516'])\\\n",
    "                              + \"|\"\n",
    "                              + str(row['BP_CHANGE'])\\\n",
    "                             )),\n",
    "    ('HP_combo', agate.Formula(agate.Text(), lambda row: 'HISPANICP'\\\n",
    "                              + \"|\"\n",
    "                              + str(row['HP_9596'])\\\n",
    "                              + \"|\"\n",
    "                              + str(row['HP_1516'])\\\n",
    "                              + \"|\"\n",
    "                              + str(row['HP_CHANGE'])\\\n",
    "                             )),\n",
    "    ('WP_combo', agate.Formula(agate.Text(), lambda row: 'WHITEP'\\\n",
    "                              + \"|\"\n",
    "                              + str(row['WP_9596'])\\\n",
    "                              + \"|\"\n",
    "                              + str(row['WP_1516'])\\\n",
    "                              + \"|\"\n",
    "                              + str(row['WP_CHANGE'])\\\n",
    "                             )),\n",
    "    ('AIP_combo', agate.Formula(agate.Text(), lambda row: 'INDIANP'\\\n",
    "                              + \"|\"\n",
    "                              + str(row['AIP_9596'])\\\n",
    "                              + \"|\"\n",
    "                              + str(row['AIP_1516'])\\\n",
    "                              + \"|\"\n",
    "                              + str(row['AIP_CHANGE'])\\\n",
    "                             )),\n",
    "    ('APIP_combo', agate.Formula(agate.Text(), lambda row: 'APIP'\\\n",
    "                              + \"|\"\n",
    "                              + str(row['APIP_9596'])\\\n",
    "                              + \"|\"\n",
    "                              + str(row['APIP_1516'])\\\n",
    "                              + \"|\"\n",
    "                              + str(row['APIP_CHANGE'])\\\n",
    "                             )),\n",
    "])\n",
    "\n",
    "#make sure it works\n",
    "print(combos)"
   ]
  },
  {
   "cell_type": "markdown",
   "metadata": {},
   "source": [
    "#### Select columns and create a new CSV"
   ]
  },
  {
   "cell_type": "code",
   "execution_count": 18,
   "metadata": {
    "collapsed": true
   },
   "outputs": [],
   "source": [
    "#focus on school and combo columns\n",
    "school_columns = (\n",
    "    'DISTNAME',\n",
    "    'CAMPNAME',\n",
    "    'longitude',\n",
    "    'latitude',\n",
    "    'STREET',\n",
    "    'CITY',\n",
    "    'ZIP',\n",
    "    'CAMPUS',\n",
    "    'year',\n",
    "    'ALL_9596',\n",
    "    'ALL_1516'\n",
    ")\n",
    "\n",
    "combo_columns = ('B_combo', 'H_combo', 'W_combo', 'AI_combo','API_combo','BP_combo','HP_combo',\n",
    "                 'WP_combo', 'AIP_combo', 'APIP_combo')\n",
    "campuscombocol = school_columns + combo_columns\n",
    "campuscombo = combos.select(campuscombocol)\n",
    "campuscombo.to_csv(path='campuscombo.csv')"
   ]
  },
  {
   "cell_type": "markdown",
   "metadata": {},
   "source": [
    "### Normalize "
   ]
  },
  {
   "cell_type": "code",
   "execution_count": 19,
   "metadata": {},
   "outputs": [
    {
     "name": "stdout",
     "output_type": "stream",
     "text": [
      "| column    | data_type |\n",
      "| --------- | --------- |\n",
      "| DISTNAME  | Text      |\n",
      "| CAMPNAME  | Text      |\n",
      "| longitude | Number    |\n",
      "| latitude  | Number    |\n",
      "| STREET    | Text      |\n",
      "| CITY      | Text      |\n",
      "| ZIP       | Number    |\n",
      "| CAMPUS    | Number    |\n",
      "| year      | Text      |\n",
      "| ALL_9596  | Number    |\n",
      "| ALL_1516  | Number    |\n",
      "| property  | Text      |\n",
      "| value     | Text      |\n",
      "\n",
      "| CAMPNAME   | property   | value                |\n",
      "| ---------- | ---------- | -------------------- |\n",
      "| AUSTIN H S | B_combo    | BLACK|171|100|-71    |\n",
      "| AUSTIN H S | H_combo    | HISPANIC|829|919|90  |\n",
      "| AUSTIN H S | W_combo    | WHITE|1215|956|-259  |\n",
      "| AUSTIN H S | AI_combo   | INDIAN|5|2|-3        |\n",
      "| AUSTIN H S | API_combo  | API|35|42|7          |\n",
      "| AUSTIN H S | BP_combo   | BLACKP|7.6|4.8|-2.8  |\n",
      "| AUSTIN H S | HP_combo   | HISPANICP|36.8|44... |\n",
      "| AUSTIN H S | WP_combo   | WHITEP|53.9|46|-7.9  |\n",
      "| AUSTIN H S | AIP_combo  | INDIANP|0.2|0.1|-0.1 |\n",
      "| AUSTIN H S | APIP_combo | APIP|1.6|2.0|0.4     |\n",
      "| LANIER H S | B_combo    | BLACK|381|140|-241   |\n",
      "| LANIER H S | H_combo    | HISPANIC|524|1367... |\n",
      "| LANIER H S | W_combo    | WHITE|428|54|-374    |\n",
      "| LANIER H S | AI_combo   | INDIAN|6|4|-2        |\n",
      "| LANIER H S | API_combo  | API|94|35|-59        |\n",
      "| LANIER H S | BP_combo   | BLACKP|26.6|8.7|-... |\n",
      "| LANIER H S | HP_combo   | HISPANICP|36.6|84... |\n",
      "| LANIER H S | WP_combo   | WHITEP|29.9|3.3|-... |\n",
      "| LANIER H S | AIP_combo  | INDIANP|0.4|0.2|-0.2 |\n",
      "| LANIER H S | APIP_combo | APIP|6.6|2.2|-4.4    |\n",
      "| ...        | ...        | ...                  |\n"
     ]
    }
   ],
   "source": [
    "data_normalized = campuscombo.normalize(\n",
    "        list(school_columns),\n",
    "        list(combo_columns)\n",
    "    )\n",
    "print(data_normalized) # check columns\n",
    "data_normalized.select(['CAMPNAME', 'property', 'value']).print_table() # peek at important cols"
   ]
  },
  {
   "cell_type": "markdown",
   "metadata": {},
   "source": [
    "### Now split it to have the yearly and change data in separate columns"
   ]
  },
  {
   "cell_type": "code",
   "execution_count": 20,
   "metadata": {},
   "outputs": [
    {
     "name": "stdout",
     "output_type": "stream",
     "text": [
      "| column    | data_type |\n",
      "| --------- | --------- |\n",
      "| DISTNAME  | Text      |\n",
      "| CAMPNAME  | Text      |\n",
      "| longitude | Number    |\n",
      "| latitude  | Number    |\n",
      "| STREET    | Text      |\n",
      "| CITY      | Text      |\n",
      "| ZIP       | Number    |\n",
      "| CAMPUS    | Number    |\n",
      "| year      | Text      |\n",
      "| ALL_9596  | Number    |\n",
      "| ALL_1516  | Number    |\n",
      "| property  | Text      |\n",
      "| value     | Text      |\n",
      "| CATEGORY  | Text      |\n",
      "| 9596      | Text      |\n",
      "| 1516      | Text      |\n",
      "| CHANGE    | Text      |\n",
      "\n",
      "| CAMPNAME   | value                | CATEGORY  | 9596 | 1516 |\n",
      "| ---------- | -------------------- | --------- | ---- | ---- |\n",
      "| AUSTIN H S | BLACK|171|100|-71    | BLACK     | 171  | 100  |\n",
      "| AUSTIN H S | HISPANIC|829|919|90  | HISPANIC  | 829  | 919  |\n",
      "| AUSTIN H S | WHITE|1215|956|-259  | WHITE     | 1215 | 956  |\n",
      "| AUSTIN H S | INDIAN|5|2|-3        | INDIAN    | 5    | 2    |\n",
      "| AUSTIN H S | API|35|42|7          | API       | 35   | 42   |\n",
      "| AUSTIN H S | BLACKP|7.6|4.8|-2.8  | BLACKP    | 7.6  | 4.8  |\n",
      "| AUSTIN H S | HISPANICP|36.8|44... | HISPANICP | 36.8 | 44.2 |\n",
      "| AUSTIN H S | WHITEP|53.9|46|-7.9  | WHITEP    | 53.9 | 46   |\n",
      "| AUSTIN H S | INDIANP|0.2|0.1|-0.1 | INDIANP   | 0.2  | 0.1  |\n",
      "| AUSTIN H S | APIP|1.6|2.0|0.4     | APIP      | 1.6  | 2.0  |\n",
      "| LANIER H S | BLACK|381|140|-241   | BLACK     | 381  | 140  |\n",
      "| LANIER H S | HISPANIC|524|1367... | HISPANIC  | 524  | 1367 |\n",
      "| LANIER H S | WHITE|428|54|-374    | WHITE     | 428  | 54   |\n",
      "| LANIER H S | INDIAN|6|4|-2        | INDIAN    | 6    | 4    |\n",
      "| LANIER H S | API|94|35|-59        | API       | 94   | 35   |\n",
      "| LANIER H S | BLACKP|26.6|8.7|-... | BLACKP    | 26.6 | 8.7  |\n",
      "| LANIER H S | HISPANICP|36.6|84... | HISPANICP | 36.6 | 84.7 |\n",
      "| LANIER H S | WHITEP|29.9|3.3|-... | WHITEP    | 29.9 | 3.3  |\n",
      "| LANIER H S | INDIANP|0.4|0.2|-0.2 | INDIANP   | 0.4  | 0.2  |\n",
      "| LANIER H S | APIP|6.6|2.2|-4.4    | APIP      | 6.6  | 2.2  |\n",
      "| ...        | ...                  | ...       | ...  | ...  |\n"
     ]
    }
   ],
   "source": [
    "# split on the pipes, will get the category, the 95 amount, the 15 amount, and the change between the two. \n",
    "exploded = data_normalized.compute([\n",
    "        ('CATEGORY', agate.Formula(agate.Text(), lambda row: row['value'].split(\"|\")[0])),\n",
    "        ('9596', agate.Formula(agate.Text(), lambda row: row['value'].split(\"|\")[1])),\n",
    "        ('1516', agate.Formula(agate.Text(), lambda row: row['value'].split(\"|\")[2])),\n",
    "        ('CHANGE', agate.Formula(agate.Text(), lambda row: row['value'].split(\"|\")[3])),\n",
    "    ])\n",
    "print(exploded)\n",
    "exploded.select(['CAMPNAME', 'value', 'CATEGORY', '9596', '1516']).print_table() # just to peek at it"
   ]
  },
  {
   "cell_type": "code",
   "execution_count": 21,
   "metadata": {
    "collapsed": true
   },
   "outputs": [],
   "source": [
    "# move to a CSV \n",
    "## Tableau note - to get all of the information you need to make the current map, you need to use both CSVs you make in\n",
    "## this notebook. Most of the numbers from exploded.csv are used to make the tooltip table. \n",
    "\n",
    "exploded.to_csv(path='exploded.csv')"
   ]
  },
  {
   "cell_type": "code",
   "execution_count": null,
   "metadata": {
    "collapsed": true
   },
   "outputs": [],
   "source": []
  }
 ],
 "metadata": {
  "kernelspec": {
   "display_name": "Python 3",
   "language": "python",
   "name": "python3"
  },
  "language_info": {
   "codemirror_mode": {
    "name": "ipython",
    "version": 3
   },
   "file_extension": ".py",
   "mimetype": "text/x-python",
   "name": "python",
   "nbconvert_exporter": "python",
   "pygments_lexer": "ipython3",
   "version": "3.6.1"
  }
 },
 "nbformat": 4,
 "nbformat_minor": 2
}
